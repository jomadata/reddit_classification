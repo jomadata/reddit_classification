{
 "cells": [
  {
   "cell_type": "code",
   "execution_count": 1,
   "id": "64e8876a",
   "metadata": {},
   "outputs": [],
   "source": [
    "# import of necessary libraries\n",
    "import random\n",
    "import time\n",
    "import numpy as np\n",
    "import pandas as pd\n",
    "import requests\n",
    "from bs4 import BeautifulSoup\n",
    "import re"
   ]
  },
  {
   "cell_type": "code",
   "execution_count": 2,
   "id": "fb7f40c4",
   "metadata": {},
   "outputs": [],
   "source": [
    "list_url = 'https://www.reddit.com/'"
   ]
  },
  {
   "cell_type": "code",
   "execution_count": 3,
   "id": "e14996f2",
   "metadata": {},
   "outputs": [
    {
     "name": "stderr",
     "output_type": "stream",
     "text": [
      "<ipython-input-3-d65fc10441da>:9: DeprecationWarning: executable_path has been deprecated, please pass in a Service object\n",
      "  browser = webdriver.Chrome(executable_path='C:/bin/chromedriver')\n"
     ]
    }
   ],
   "source": [
    "#getting the list of subreddits\n",
    "headers = {'User-Agent': 'Mozilla/5.0 (Windows NT 10.0; Win64; x64) AppleWebKit/537.36 (KHTML, like Gecko) Chrome/74.0.3729.169 Safari/537.36'}\n",
    "#headers is used to fake the real life user browsing through a broswer in order to extract data\n",
    "\n",
    "#for scrapping javascript onjects from webpage downloaded selenium and chromedriver.\n",
    "#\n",
    "from selenium import webdriver\n",
    "\n",
    "browser = webdriver.Chrome(executable_path='C:/bin/chromedriver')\n",
    "browser.get(list_url)\n",
    "html_source = browser.page_source\n",
    "browser.quit()\n",
    "soup = BeautifulSoup(html_source, 'html.parser')"
   ]
  },
  {
   "cell_type": "code",
   "execution_count": 4,
   "id": "d931d52c",
   "metadata": {},
   "outputs": [],
   "source": [
    "# Extraction of all the reddit subreddit topics\n",
    "top_list = soup.find(class_ ='_2jmnnhuP2AL87nZM3exPTR').find_all('a')\n",
    "top_subr = []\n",
    "for topic in top_list:\n",
    "    k = {}\n",
    "    k['name'] = topic.text\n",
    "    k['link'] = topic.get('href')\n",
    "    # dropping the Ask subreddits, due to simple one line titles and frequent deletion\n",
    "    if not 'ask' in k['name'].lower() or not 'ask' in k['link'].lower():\n",
    "        top_subr.append(k)"
   ]
  },
  {
   "cell_type": "code",
   "execution_count": 5,
   "id": "00ab65ee",
   "metadata": {},
   "outputs": [
    {
     "data": {
      "text/plain": [
       "[{'name': 'NoStupidQuestions', 'link': '/r/NoStupidQuestions/'},\n",
       " {'name': 'DestinyTheGame', 'link': '/r/DestinyTheGame/'},\n",
       " {'name': 'explainlikeimfive', 'link': '/r/explainlikeimfive/'},\n",
       " {'name': 'leagueoflegends', 'link': '/r/leagueoflegends/'},\n",
       " {'name': 'Minecraft', 'link': '/r/Minecraft/'},\n",
       " {'name': 'anime', 'link': '/r/anime/'},\n",
       " {'name': 'IAmA', 'link': '/r/IAmA/'},\n",
       " {'name': 'OutOfTheLoop', 'link': '/r/OutOfTheLoop/'},\n",
       " {'name': 'Fitness', 'link': '/r/Fitness/'},\n",
       " {'name': 'destiny2', 'link': '/r/destiny2/'},\n",
       " {'name': 'classicwow', 'link': '/r/classicwow/'},\n",
       " {'name': 'PS4', 'link': '/r/PS4/'},\n",
       " {'name': 'discordapp', 'link': '/r/discordapp/'},\n",
       " {'name': 'DnD', 'link': '/r/DnD/'},\n",
       " {'name': 'FIFA', 'link': '/r/FIFA/'},\n",
       " {'name': 'Instagram', 'link': '/r/Instagram/'},\n",
       " {'name': 'apple', 'link': '/r/apple/'},\n",
       " {'name': 'Twitch', 'link': '/r/Twitch/'},\n",
       " {'name': 'videos', 'link': '/r/videos/'},\n",
       " {'name': 'FortNiteBR', 'link': '/r/FortNiteBR/'},\n",
       " {'name': 'NintendoSwitch', 'link': '/r/NintendoSwitch/'},\n",
       " {'name': 'NBA2k', 'link': '/r/NBA2k/'},\n",
       " {'name': 'gtaonline', 'link': '/r/gtaonline/'},\n",
       " {'name': 'wow', 'link': '/r/wow/'},\n",
       " {'name': 'dndnext', 'link': '/r/dndnext/'},\n",
       " {'name': 'Tinder', 'link': '/r/Tinder/'},\n",
       " {'name': 'xboxone', 'link': '/r/xboxone/'},\n",
       " {'name': 'relationship_advice', 'link': '/r/relationship_advice/'},\n",
       " {'name': 'Amd', 'link': '/r/Amd/'},\n",
       " {'name': 'buildapc', 'link': '/r/buildapc/'},\n",
       " {'name': 'todayilearned', 'link': '/r/todayilearned/'},\n",
       " {'name': 'sysadmin', 'link': '/r/sysadmin/'},\n",
       " {'name': 'OnePiece', 'link': '/r/OnePiece/'},\n",
       " {'name': 'malefashionadvice', 'link': '/r/malefashionadvice/'},\n",
       " {'name': 'techsupport', 'link': '/r/techsupport/'},\n",
       " {'name': 'iphone', 'link': '/r/iphone/'},\n",
       " {'name': 'nba', 'link': '/r/nba/'},\n",
       " {'name': 'GlobalOffensive', 'link': '/r/GlobalOffensive/'},\n",
       " {'name': 'reddeadredemption', 'link': '/r/reddeadredemption/'},\n",
       " {'name': 'jailbreak', 'link': '/r/jailbreak/'},\n",
       " {'name': 'ffxiv', 'link': '/r/ffxiv/'},\n",
       " {'name': 'Cooking', 'link': '/r/Cooking/'},\n",
       " {'name': '2007scape', 'link': '/r/2007scape/'},\n",
       " {'name': 'LivestreamFail', 'link': '/r/LivestreamFail/'},\n",
       " {'name': 'nfl', 'link': '/r/nfl/'},\n",
       " {'name': 'cars', 'link': '/r/cars/'},\n",
       " {'name': 'pics', 'link': '/r/pics/'},\n",
       " {'name': 'MonsterHunterWorld', 'link': '/r/MonsterHunterWorld/'},\n",
       " {'name': 'legaladvice', 'link': '/r/legaladvice/'},\n",
       " {'name': 'Showerthoughts', 'link': '/r/Showerthoughts/'},\n",
       " {'name': 'pcmasterrace', 'link': '/r/pcmasterrace/'},\n",
       " {'name': 'GooglePixel', 'link': '/r/GooglePixel/'},\n",
       " {'name': 'cscareerquestions', 'link': '/r/cscareerquestions/'},\n",
       " {'name': 'LifeProTips', 'link': '/r/LifeProTips/'},\n",
       " {'name': 'Music', 'link': '/r/Music/'},\n",
       " {'name': 'pokemon', 'link': '/r/pokemon/'},\n",
       " {'name': 'breakingbad', 'link': '/r/breakingbad/'},\n",
       " {'name': 'singapore', 'link': '/r/singapore/'},\n",
       " {'name': 'FORTnITE', 'link': '/r/FORTnITE/'},\n",
       " {'name': 'netflix', 'link': '/r/netflix/'},\n",
       " {'name': 'tipofmytongue', 'link': '/r/tipofmytongue/'},\n",
       " {'name': 'pokemongo', 'link': '/r/pokemongo/'},\n",
       " {'name': 'Philippines', 'link': '/r/Philippines/'},\n",
       " {'name': 'DotA2', 'link': '/r/DotA2/'},\n",
       " {'name': 'nvidia', 'link': '/r/nvidia/'},\n",
       " {'name': 'books', 'link': '/r/books/'},\n",
       " {'name': 'DunderMifflin', 'link': '/r/DunderMifflin/'},\n",
       " {'name': 'memes', 'link': '/r/memes/'},\n",
       " {'name': 'SquaredCircle', 'link': '/r/SquaredCircle/'},\n",
       " {'name': 'headphones', 'link': '/r/headphones/'},\n",
       " {'name': 'baseball', 'link': '/r/baseball/'},\n",
       " {'name': 'learnpython', 'link': '/r/learnpython/'},\n",
       " {'name': 'Rainbow6', 'link': '/r/Rainbow6/'},\n",
       " {'name': 'keto', 'link': '/r/keto/'},\n",
       " {'name': 'hearthstone', 'link': '/r/hearthstone/'},\n",
       " {'name': 'Windows10', 'link': '/r/Windows10/'},\n",
       " {'name': 'Android', 'link': '/r/Android/'},\n",
       " {'name': 'Sneakers', 'link': '/r/Sneakers/'},\n",
       " {'name': 'Frugal', 'link': '/r/Frugal/'},\n",
       " {'name': 'fantasyfootball', 'link': '/r/fantasyfootball/'},\n",
       " {'name': 'starbucks', 'link': '/r/starbucks/'},\n",
       " {'name': 'Steam', 'link': '/r/Steam/'},\n",
       " {'name': 'learnprogramming', 'link': '/r/learnprogramming/'},\n",
       " {'name': 'Overwatch', 'link': '/r/Overwatch/'},\n",
       " {'name': 'pathofexile', 'link': '/r/pathofexile/'},\n",
       " {'name': 'confession', 'link': '/r/confession/'},\n",
       " {'name': 'southpark', 'link': '/r/southpark/'},\n",
       " {'name': 'RedDeadOnline', 'link': '/r/RedDeadOnline/'},\n",
       " {'name': 'piercing', 'link': '/r/piercing/'},\n",
       " {'name': 'canada', 'link': '/r/canada/'},\n",
       " {'name': 'HomeImprovement', 'link': '/r/HomeImprovement/'},\n",
       " {'name': 'skyrim', 'link': '/r/skyrim/'},\n",
       " {'name': 'jobs', 'link': '/r/jobs/'},\n",
       " {'name': 'worldnews', 'link': '/r/worldnews/'},\n",
       " {'name': 'nosleep', 'link': '/r/nosleep/'}]"
      ]
     },
     "execution_count": 5,
     "metadata": {},
     "output_type": "execute_result"
    }
   ],
   "source": [
    "top_subr"
   ]
  },
  {
   "cell_type": "code",
   "execution_count": 6,
   "id": "9d046e0b",
   "metadata": {},
   "outputs": [],
   "source": [
    "#making the list completely random (maybe it will increase the chance of not being blocked)\n",
    "top_subr = random.choices(top_subr, k=len(top_subr))"
   ]
  },
  {
   "cell_type": "code",
   "execution_count": 7,
   "id": "39716251",
   "metadata": {},
   "outputs": [],
   "source": [
    "#creating dataframe out of the name and link of the subreddit \n",
    "subr_df = pd.DataFrame(top_subr)"
   ]
  },
  {
   "cell_type": "code",
   "execution_count": 8,
   "id": "44eedb73",
   "metadata": {},
   "outputs": [
    {
     "data": {
      "text/plain": [
       "(95, 2)"
      ]
     },
     "execution_count": 8,
     "metadata": {},
     "output_type": "execute_result"
    }
   ],
   "source": [
    "subr_df.shape"
   ]
  },
  {
   "cell_type": "code",
   "execution_count": 9,
   "id": "ee974559",
   "metadata": {},
   "outputs": [
    {
     "data": {
      "text/html": [
       "<div>\n",
       "<style scoped>\n",
       "    .dataframe tbody tr th:only-of-type {\n",
       "        vertical-align: middle;\n",
       "    }\n",
       "\n",
       "    .dataframe tbody tr th {\n",
       "        vertical-align: top;\n",
       "    }\n",
       "\n",
       "    .dataframe thead th {\n",
       "        text-align: right;\n",
       "    }\n",
       "</style>\n",
       "<table border=\"1\" class=\"dataframe\">\n",
       "  <thead>\n",
       "    <tr style=\"text-align: right;\">\n",
       "      <th></th>\n",
       "      <th>name</th>\n",
       "      <th>link</th>\n",
       "    </tr>\n",
       "  </thead>\n",
       "  <tbody>\n",
       "    <tr>\n",
       "      <th>0</th>\n",
       "      <td>FIFA</td>\n",
       "      <td>/r/FIFA/</td>\n",
       "    </tr>\n",
       "    <tr>\n",
       "      <th>1</th>\n",
       "      <td>jailbreak</td>\n",
       "      <td>/r/jailbreak/</td>\n",
       "    </tr>\n",
       "    <tr>\n",
       "      <th>2</th>\n",
       "      <td>Minecraft</td>\n",
       "      <td>/r/Minecraft/</td>\n",
       "    </tr>\n",
       "    <tr>\n",
       "      <th>3</th>\n",
       "      <td>dndnext</td>\n",
       "      <td>/r/dndnext/</td>\n",
       "    </tr>\n",
       "    <tr>\n",
       "      <th>4</th>\n",
       "      <td>pokemongo</td>\n",
       "      <td>/r/pokemongo/</td>\n",
       "    </tr>\n",
       "  </tbody>\n",
       "</table>\n",
       "</div>"
      ],
      "text/plain": [
       "        name           link\n",
       "0       FIFA       /r/FIFA/\n",
       "1  jailbreak  /r/jailbreak/\n",
       "2  Minecraft  /r/Minecraft/\n",
       "3    dndnext    /r/dndnext/\n",
       "4  pokemongo  /r/pokemongo/"
      ]
     },
     "execution_count": 9,
     "metadata": {},
     "output_type": "execute_result"
    }
   ],
   "source": [
    "subr_df.head()"
   ]
  },
  {
   "cell_type": "code",
   "execution_count": 10,
   "id": "2e226cac",
   "metadata": {},
   "outputs": [],
   "source": [
    "# exporting the list of subreddits to a file\n",
    "subr_df.to_csv('../data/reddit_top_subrs.csv', index=False)"
   ]
  },
  {
   "cell_type": "code",
   "execution_count": null,
   "id": "20f04331",
   "metadata": {},
   "outputs": [],
   "source": []
  }
 ],
 "metadata": {
  "kernelspec": {
   "display_name": "Python 3",
   "language": "python",
   "name": "python3"
  },
  "language_info": {
   "codemirror_mode": {
    "name": "ipython",
    "version": 3
   },
   "file_extension": ".py",
   "mimetype": "text/x-python",
   "name": "python",
   "nbconvert_exporter": "python",
   "pygments_lexer": "ipython3",
   "version": "3.8.8"
  }
 },
 "nbformat": 4,
 "nbformat_minor": 5
}
