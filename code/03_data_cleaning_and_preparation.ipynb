{
 "cells": [
  {
   "cell_type": "markdown",
   "id": "e86edf4a",
   "metadata": {},
   "source": [
    "# Project 3, NLP - 03\n",
    "### by Joomart Achekeev"
   ]
  },
  {
   "cell_type": "code",
   "execution_count": 1,
   "id": "6d71e7d8",
   "metadata": {},
   "outputs": [],
   "source": [
    "import datetime\n",
    "import random\n",
    "import numpy as np\n",
    "import pandas as pd"
   ]
  },
  {
   "cell_type": "code",
   "execution_count": 2,
   "id": "354b725d",
   "metadata": {},
   "outputs": [],
   "source": [
    "df = pd.read_csv('../data/full_data.csv')"
   ]
  },
  {
   "cell_type": "code",
   "execution_count": 3,
   "id": "006c2e43",
   "metadata": {
    "scrolled": true
   },
   "outputs": [
    {
     "data": {
      "text/html": [
       "<div>\n",
       "<style scoped>\n",
       "    .dataframe tbody tr th:only-of-type {\n",
       "        vertical-align: middle;\n",
       "    }\n",
       "\n",
       "    .dataframe tbody tr th {\n",
       "        vertical-align: top;\n",
       "    }\n",
       "\n",
       "    .dataframe thead th {\n",
       "        text-align: right;\n",
       "    }\n",
       "</style>\n",
       "<table border=\"1\" class=\"dataframe\">\n",
       "  <thead>\n",
       "    <tr style=\"text-align: right;\">\n",
       "      <th></th>\n",
       "      <th>title</th>\n",
       "      <th>selftext</th>\n",
       "      <th>created_utc</th>\n",
       "      <th>subr</th>\n",
       "    </tr>\n",
       "  </thead>\n",
       "  <tbody>\n",
       "    <tr>\n",
       "      <th>0</th>\n",
       "      <td>The worst thing to ever be created . I present...</td>\n",
       "      <td>NaN</td>\n",
       "      <td>1637513002</td>\n",
       "      <td>2007scape</td>\n",
       "    </tr>\n",
       "    <tr>\n",
       "      <th>1</th>\n",
       "      <td>Opening 50 Elite Caskets &amp;amp; 10 Master Caskets</td>\n",
       "      <td>NaN</td>\n",
       "      <td>1637512905</td>\n",
       "      <td>2007scape</td>\n",
       "    </tr>\n",
       "  </tbody>\n",
       "</table>\n",
       "</div>"
      ],
      "text/plain": [
       "                                               title selftext  created_utc  \\\n",
       "0  The worst thing to ever be created . I present...      NaN   1637513002   \n",
       "1   Opening 50 Elite Caskets &amp; 10 Master Caskets      NaN   1637512905   \n",
       "\n",
       "        subr  \n",
       "0  2007scape  \n",
       "1  2007scape  "
      ]
     },
     "execution_count": 3,
     "metadata": {},
     "output_type": "execute_result"
    }
   ],
   "source": [
    "df.head(2)"
   ]
  },
  {
   "cell_type": "code",
   "execution_count": 4,
   "id": "90774f33",
   "metadata": {},
   "outputs": [
    {
     "data": {
      "text/plain": [
       "(72686, 4)"
      ]
     },
     "execution_count": 4,
     "metadata": {},
     "output_type": "execute_result"
    }
   ],
   "source": [
    "df.shape"
   ]
  },
  {
   "cell_type": "code",
   "execution_count": 5,
   "id": "ccb24341",
   "metadata": {},
   "outputs": [],
   "source": [
    "dfa = df.dropna()"
   ]
  },
  {
   "cell_type": "code",
   "execution_count": 6,
   "id": "36e746a4",
   "metadata": {},
   "outputs": [
    {
     "data": {
      "text/plain": [
       "(22051, 4)"
      ]
     },
     "execution_count": 6,
     "metadata": {},
     "output_type": "execute_result"
    }
   ],
   "source": [
    "dfa.shape"
   ]
  },
  {
   "cell_type": "code",
   "execution_count": 7,
   "id": "4ba81614",
   "metadata": {
    "scrolled": true
   },
   "outputs": [],
   "source": [
    "dfa = dfa.drop(dfa[dfa['selftext']=='[deleted]'].index)"
   ]
  },
  {
   "cell_type": "code",
   "execution_count": 8,
   "id": "75eb96fd",
   "metadata": {},
   "outputs": [
    {
     "data": {
      "text/plain": [
       "subr\n",
       "PiratedGames           1560\n",
       "DestinyTheGame         1504\n",
       "Jokes                  1482\n",
       "EscapefromTarkov       1474\n",
       "explainlikeimfive      1417\n",
       "MaliciousCompliance    1268\n",
       "TwoXChromosomes        1256\n",
       "DnD                    1069\n",
       "Battlefield            1064\n",
       "2007scape               938\n",
       "MechanicalKeyboards     905\n",
       "OutOfTheLoop            787\n",
       "anime                   768\n",
       "forza                   723\n",
       "GTA                     581\n",
       "dtype: int64"
      ]
     },
     "execution_count": 8,
     "metadata": {},
     "output_type": "execute_result"
    }
   ],
   "source": [
    "dfa.value_counts('subr').head(15)"
   ]
  },
  {
   "cell_type": "code",
   "execution_count": 9,
   "id": "963d84f4",
   "metadata": {},
   "outputs": [],
   "source": [
    "#This takes some time, creating a list of topics that have over 1000 legit non Null or [deleted]\n",
    "#posts.\n",
    "selected = sorted(list(set([topic for topic in dfa['subr'] if dfa[dfa['subr'] == topic].shape[0] > 1000])))"
   ]
  },
  {
   "cell_type": "code",
   "execution_count": 10,
   "id": "4f38b162",
   "metadata": {},
   "outputs": [
    {
     "name": "stdout",
     "output_type": "stream",
     "text": [
      "Battlefield\n",
      "1064\n",
      "DestinyTheGame\n",
      "1504\n",
      "DnD\n",
      "1069\n",
      "EscapefromTarkov\n",
      "1474\n",
      "Jokes\n",
      "1482\n",
      "MaliciousCompliance\n",
      "1268\n",
      "PiratedGames\n",
      "1560\n",
      "TwoXChromosomes\n",
      "1256\n",
      "explainlikeimfive\n",
      "1417\n"
     ]
    }
   ],
   "source": [
    "#checking the length\n",
    "for sel in selected:\n",
    "    print(sel)\n",
    "    print(len(dfa[dfa['subr']==sel]))"
   ]
  },
  {
   "cell_type": "code",
   "execution_count": 11,
   "id": "d995e876",
   "metadata": {},
   "outputs": [
    {
     "data": {
      "text/html": [
       "<div>\n",
       "<style scoped>\n",
       "    .dataframe tbody tr th:only-of-type {\n",
       "        vertical-align: middle;\n",
       "    }\n",
       "\n",
       "    .dataframe tbody tr th {\n",
       "        vertical-align: top;\n",
       "    }\n",
       "\n",
       "    .dataframe thead th {\n",
       "        text-align: right;\n",
       "    }\n",
       "</style>\n",
       "<table border=\"1\" class=\"dataframe\">\n",
       "  <thead>\n",
       "    <tr style=\"text-align: right;\">\n",
       "      <th></th>\n",
       "      <th>title</th>\n",
       "      <th>selftext</th>\n",
       "      <th>created_utc</th>\n",
       "      <th>subr</th>\n",
       "    </tr>\n",
       "  </thead>\n",
       "  <tbody>\n",
       "    <tr>\n",
       "      <th>62084</th>\n",
       "      <td>ELI5: Why the Heisenberg Uncertainty Principle...</td>\n",
       "      <td>I've seen a few of these from the search that ...</td>\n",
       "      <td>1342989966</td>\n",
       "      <td>explainlikeimfive</td>\n",
       "    </tr>\n",
       "    <tr>\n",
       "      <th>62085</th>\n",
       "      <td>ELI5: Why is some content available in the US ...</td>\n",
       "      <td>I know the providers have a licensing agreemen...</td>\n",
       "      <td>1342988749</td>\n",
       "      <td>explainlikeimfive</td>\n",
       "    </tr>\n",
       "    <tr>\n",
       "      <th>62086</th>\n",
       "      <td>ELI5: why racing cars have wide tires</td>\n",
       "      <td>Former MIT Professor Walter Lewin asked the qu...</td>\n",
       "      <td>1342987892</td>\n",
       "      <td>explainlikeimfive</td>\n",
       "    </tr>\n",
       "    <tr>\n",
       "      <th>62087</th>\n",
       "      <td>Major countries that were intervened by the U....</td>\n",
       "      <td>I'd like to know which countries (5-7) were th...</td>\n",
       "      <td>1342987069</td>\n",
       "      <td>explainlikeimfive</td>\n",
       "    </tr>\n",
       "    <tr>\n",
       "      <th>62088</th>\n",
       "      <td>Why racing cars have wider tires?</td>\n",
       "      <td>Former MIT Professor Walter Lewin asked the qu...</td>\n",
       "      <td>1342986986</td>\n",
       "      <td>explainlikeimfive</td>\n",
       "    </tr>\n",
       "    <tr>\n",
       "      <th>...</th>\n",
       "      <td>...</td>\n",
       "      <td>...</td>\n",
       "      <td>...</td>\n",
       "      <td>...</td>\n",
       "    </tr>\n",
       "    <tr>\n",
       "      <th>64077</th>\n",
       "      <td>ELI5 Cricket.</td>\n",
       "      <td>Seriously.  No amount of research has explaine...</td>\n",
       "      <td>1341418870</td>\n",
       "      <td>explainlikeimfive</td>\n",
       "    </tr>\n",
       "    <tr>\n",
       "      <th>64079</th>\n",
       "      <td>[ELI5] (For areas North of the Tropic of Capri...</td>\n",
       "      <td>I understand specific heat to a small degree (...</td>\n",
       "      <td>1341415850</td>\n",
       "      <td>explainlikeimfive</td>\n",
       "    </tr>\n",
       "    <tr>\n",
       "      <th>64080</th>\n",
       "      <td>ELI5: The Pen Tool (Photoshop,Illustrator, etc...</td>\n",
       "      <td>Seriously, I've used Photoshop for quite a few...</td>\n",
       "      <td>1341414946</td>\n",
       "      <td>explainlikeimfive</td>\n",
       "    </tr>\n",
       "    <tr>\n",
       "      <th>64082</th>\n",
       "      <td>Higgs Boson</td>\n",
       "      <td>Theres been a lot of talk about this in recent...</td>\n",
       "      <td>1341414618</td>\n",
       "      <td>explainlikeimfive</td>\n",
       "    </tr>\n",
       "    <tr>\n",
       "      <th>64083</th>\n",
       "      <td>ELI5 Downvoting in this subreddit.</td>\n",
       "      <td>Why? We're all just asking questions. One of t...</td>\n",
       "      <td>1341414094</td>\n",
       "      <td>explainlikeimfive</td>\n",
       "    </tr>\n",
       "  </tbody>\n",
       "</table>\n",
       "<p>1417 rows × 4 columns</p>\n",
       "</div>"
      ],
      "text/plain": [
       "                                                   title  \\\n",
       "62084  ELI5: Why the Heisenberg Uncertainty Principle...   \n",
       "62085  ELI5: Why is some content available in the US ...   \n",
       "62086              ELI5: why racing cars have wide tires   \n",
       "62087  Major countries that were intervened by the U....   \n",
       "62088                  Why racing cars have wider tires?   \n",
       "...                                                  ...   \n",
       "64077                                      ELI5 Cricket.   \n",
       "64079  [ELI5] (For areas North of the Tropic of Capri...   \n",
       "64080  ELI5: The Pen Tool (Photoshop,Illustrator, etc...   \n",
       "64082                                       Higgs Boson    \n",
       "64083                 ELI5 Downvoting in this subreddit.   \n",
       "\n",
       "                                                selftext  created_utc  \\\n",
       "62084  I've seen a few of these from the search that ...   1342989966   \n",
       "62085  I know the providers have a licensing agreemen...   1342988749   \n",
       "62086  Former MIT Professor Walter Lewin asked the qu...   1342987892   \n",
       "62087  I'd like to know which countries (5-7) were th...   1342987069   \n",
       "62088  Former MIT Professor Walter Lewin asked the qu...   1342986986   \n",
       "...                                                  ...          ...   \n",
       "64077  Seriously.  No amount of research has explaine...   1341418870   \n",
       "64079  I understand specific heat to a small degree (...   1341415850   \n",
       "64080  Seriously, I've used Photoshop for quite a few...   1341414946   \n",
       "64082  Theres been a lot of talk about this in recent...   1341414618   \n",
       "64083  Why? We're all just asking questions. One of t...   1341414094   \n",
       "\n",
       "                    subr  \n",
       "62084  explainlikeimfive  \n",
       "62085  explainlikeimfive  \n",
       "62086  explainlikeimfive  \n",
       "62087  explainlikeimfive  \n",
       "62088  explainlikeimfive  \n",
       "...                  ...  \n",
       "64077  explainlikeimfive  \n",
       "64079  explainlikeimfive  \n",
       "64080  explainlikeimfive  \n",
       "64082  explainlikeimfive  \n",
       "64083  explainlikeimfive  \n",
       "\n",
       "[1417 rows x 4 columns]"
      ]
     },
     "execution_count": 11,
     "metadata": {},
     "output_type": "execute_result"
    }
   ],
   "source": [
    "dfa[dfa['subr']==sel]"
   ]
  },
  {
   "cell_type": "code",
   "execution_count": 12,
   "id": "0b80e1c7",
   "metadata": {},
   "outputs": [
    {
     "name": "stdout",
     "output_type": "stream",
     "text": [
      "Battlefield\n",
      "DestinyTheGame\n",
      "DnD\n",
      "EscapefromTarkov\n",
      "Jokes\n",
      "MaliciousCompliance\n",
      "PiratedGames\n",
      "TwoXChromosomes\n",
      "explainlikeimfive\n"
     ]
    },
    {
     "data": {
      "text/plain": [
       "12094"
      ]
     },
     "execution_count": 12,
     "metadata": {},
     "output_type": "execute_result"
    }
   ],
   "source": [
    "#taking out the subreddits that have more than 1000 posts into a separete dataframe\n",
    "dfb = pd.DataFrame()\n",
    "k = 0\n",
    "for sel in selected:\n",
    "    print(sel)\n",
    "    dfb = pd.concat([dfb, dfa[dfa['subr']==sel]])\n",
    "    k+=len(dfa[dfa['subr']==sel])\n",
    "k"
   ]
  },
  {
   "cell_type": "code",
   "execution_count": 13,
   "id": "659c6008",
   "metadata": {},
   "outputs": [],
   "source": [
    "dfb.to_csv('../data/final_data.csv', index=False)"
   ]
  },
  {
   "cell_type": "code",
   "execution_count": 14,
   "id": "85e068b0",
   "metadata": {
    "scrolled": true
   },
   "outputs": [],
   "source": [
    "dfb = dfb.reset_index()"
   ]
  },
  {
   "cell_type": "markdown",
   "id": "3c1d77b1",
   "metadata": {},
   "source": [
    "## EDA"
   ]
  },
  {
   "cell_type": "code",
   "execution_count": 15,
   "id": "0fb80a47",
   "metadata": {},
   "outputs": [],
   "source": [
    "import matplotlib.pyplot as plt\n",
    "from sklearn.feature_extraction.text import CountVectorizer, TfidfVectorizer"
   ]
  },
  {
   "cell_type": "code",
   "execution_count": 16,
   "id": "6ce8122f",
   "metadata": {},
   "outputs": [],
   "source": [
    "cvec = CountVectorizer(stop_words='english', ngram_range=(1, 2), max_features=10_000, max_df=.95)"
   ]
  },
  {
   "cell_type": "code",
   "execution_count": 17,
   "id": "2074929e",
   "metadata": {},
   "outputs": [
    {
     "data": {
      "text/plain": [
       "CountVectorizer(max_df=0.95, max_features=10000, ngram_range=(1, 2),\n",
       "                stop_words='english')"
      ]
     },
     "execution_count": 17,
     "metadata": {},
     "output_type": "execute_result"
    }
   ],
   "source": [
    "cvec.fit(dfb['title'])"
   ]
  },
  {
   "cell_type": "code",
   "execution_count": 18,
   "id": "e7858b01",
   "metadata": {},
   "outputs": [],
   "source": [
    "dfb_title_cvec = cvec.transform(dfb['title'])"
   ]
  },
  {
   "cell_type": "code",
   "execution_count": 19,
   "id": "5b759caa",
   "metadata": {},
   "outputs": [],
   "source": [
    "dfb_title_cvec = pd.DataFrame(dfb_title_cvec.todense(), \n",
    "                          columns=cvec.get_feature_names())"
   ]
  },
  {
   "cell_type": "code",
   "execution_count": 20,
   "id": "67ce62de",
   "metadata": {},
   "outputs": [
    {
     "data": {
      "text/plain": [
       "(12094, 10000)"
      ]
     },
     "execution_count": 20,
     "metadata": {},
     "output_type": "execute_result"
    }
   ],
   "source": [
    "dfb_title_cvec.shape"
   ]
  },
  {
   "cell_type": "code",
   "execution_count": 21,
   "id": "8cb1e32f",
   "metadata": {},
   "outputs": [],
   "source": [
    "#eli5 is the subreddit topic Explain like i am 5, nned to drop it\n",
    "dfb_title_cvec.drop(columns='eli5', inplace=True)"
   ]
  },
  {
   "cell_type": "code",
   "execution_count": 22,
   "id": "f54acfe3",
   "metadata": {},
   "outputs": [],
   "source": [
    "eda_title_df = pd.concat([dfb['subr'], dfb_title_cvec], axis=1)"
   ]
  },
  {
   "cell_type": "code",
   "execution_count": 23,
   "id": "51651623",
   "metadata": {},
   "outputs": [
    {
     "data": {
      "text/html": [
       "<div>\n",
       "<style scoped>\n",
       "    .dataframe tbody tr th:only-of-type {\n",
       "        vertical-align: middle;\n",
       "    }\n",
       "\n",
       "    .dataframe tbody tr th {\n",
       "        vertical-align: top;\n",
       "    }\n",
       "\n",
       "    .dataframe thead th {\n",
       "        text-align: right;\n",
       "    }\n",
       "</style>\n",
       "<table border=\"1\" class=\"dataframe\">\n",
       "  <thead>\n",
       "    <tr style=\"text-align: right;\">\n",
       "      <th></th>\n",
       "      <th>subr</th>\n",
       "      <th>000</th>\n",
       "      <th>06</th>\n",
       "      <th>08</th>\n",
       "      <th>09</th>\n",
       "      <th>09 24</th>\n",
       "      <th>09 25</th>\n",
       "      <th>09 26</th>\n",
       "      <th>0x06</th>\n",
       "      <th>0xc0000142</th>\n",
       "      <th>...</th>\n",
       "      <th>zero</th>\n",
       "      <th>zeroing</th>\n",
       "      <th>zombie</th>\n",
       "      <th>zombie apocalypse</th>\n",
       "      <th>zombies</th>\n",
       "      <th>zone</th>\n",
       "      <th>zones</th>\n",
       "      <th>zoo</th>\n",
       "      <th>zoo tycoon</th>\n",
       "      <th>zoom</th>\n",
       "    </tr>\n",
       "  </thead>\n",
       "  <tbody>\n",
       "    <tr>\n",
       "      <th>0</th>\n",
       "      <td>Battlefield</td>\n",
       "      <td>0</td>\n",
       "      <td>0</td>\n",
       "      <td>0</td>\n",
       "      <td>0</td>\n",
       "      <td>0</td>\n",
       "      <td>0</td>\n",
       "      <td>0</td>\n",
       "      <td>0</td>\n",
       "      <td>0</td>\n",
       "      <td>...</td>\n",
       "      <td>0</td>\n",
       "      <td>0</td>\n",
       "      <td>0</td>\n",
       "      <td>0</td>\n",
       "      <td>0</td>\n",
       "      <td>0</td>\n",
       "      <td>0</td>\n",
       "      <td>0</td>\n",
       "      <td>0</td>\n",
       "      <td>0</td>\n",
       "    </tr>\n",
       "    <tr>\n",
       "      <th>1</th>\n",
       "      <td>Battlefield</td>\n",
       "      <td>0</td>\n",
       "      <td>0</td>\n",
       "      <td>0</td>\n",
       "      <td>0</td>\n",
       "      <td>0</td>\n",
       "      <td>0</td>\n",
       "      <td>0</td>\n",
       "      <td>0</td>\n",
       "      <td>0</td>\n",
       "      <td>...</td>\n",
       "      <td>0</td>\n",
       "      <td>0</td>\n",
       "      <td>0</td>\n",
       "      <td>0</td>\n",
       "      <td>0</td>\n",
       "      <td>0</td>\n",
       "      <td>0</td>\n",
       "      <td>0</td>\n",
       "      <td>0</td>\n",
       "      <td>0</td>\n",
       "    </tr>\n",
       "    <tr>\n",
       "      <th>2</th>\n",
       "      <td>Battlefield</td>\n",
       "      <td>0</td>\n",
       "      <td>0</td>\n",
       "      <td>0</td>\n",
       "      <td>0</td>\n",
       "      <td>0</td>\n",
       "      <td>0</td>\n",
       "      <td>0</td>\n",
       "      <td>0</td>\n",
       "      <td>0</td>\n",
       "      <td>...</td>\n",
       "      <td>0</td>\n",
       "      <td>0</td>\n",
       "      <td>0</td>\n",
       "      <td>0</td>\n",
       "      <td>0</td>\n",
       "      <td>0</td>\n",
       "      <td>0</td>\n",
       "      <td>0</td>\n",
       "      <td>0</td>\n",
       "      <td>0</td>\n",
       "    </tr>\n",
       "    <tr>\n",
       "      <th>3</th>\n",
       "      <td>Battlefield</td>\n",
       "      <td>0</td>\n",
       "      <td>0</td>\n",
       "      <td>0</td>\n",
       "      <td>0</td>\n",
       "      <td>0</td>\n",
       "      <td>0</td>\n",
       "      <td>0</td>\n",
       "      <td>0</td>\n",
       "      <td>0</td>\n",
       "      <td>...</td>\n",
       "      <td>0</td>\n",
       "      <td>0</td>\n",
       "      <td>0</td>\n",
       "      <td>0</td>\n",
       "      <td>0</td>\n",
       "      <td>0</td>\n",
       "      <td>0</td>\n",
       "      <td>0</td>\n",
       "      <td>0</td>\n",
       "      <td>0</td>\n",
       "    </tr>\n",
       "    <tr>\n",
       "      <th>4</th>\n",
       "      <td>Battlefield</td>\n",
       "      <td>0</td>\n",
       "      <td>0</td>\n",
       "      <td>0</td>\n",
       "      <td>0</td>\n",
       "      <td>0</td>\n",
       "      <td>0</td>\n",
       "      <td>0</td>\n",
       "      <td>0</td>\n",
       "      <td>0</td>\n",
       "      <td>...</td>\n",
       "      <td>0</td>\n",
       "      <td>0</td>\n",
       "      <td>0</td>\n",
       "      <td>0</td>\n",
       "      <td>0</td>\n",
       "      <td>0</td>\n",
       "      <td>0</td>\n",
       "      <td>0</td>\n",
       "      <td>0</td>\n",
       "      <td>0</td>\n",
       "    </tr>\n",
       "    <tr>\n",
       "      <th>...</th>\n",
       "      <td>...</td>\n",
       "      <td>...</td>\n",
       "      <td>...</td>\n",
       "      <td>...</td>\n",
       "      <td>...</td>\n",
       "      <td>...</td>\n",
       "      <td>...</td>\n",
       "      <td>...</td>\n",
       "      <td>...</td>\n",
       "      <td>...</td>\n",
       "      <td>...</td>\n",
       "      <td>...</td>\n",
       "      <td>...</td>\n",
       "      <td>...</td>\n",
       "      <td>...</td>\n",
       "      <td>...</td>\n",
       "      <td>...</td>\n",
       "      <td>...</td>\n",
       "      <td>...</td>\n",
       "      <td>...</td>\n",
       "      <td>...</td>\n",
       "    </tr>\n",
       "    <tr>\n",
       "      <th>12089</th>\n",
       "      <td>explainlikeimfive</td>\n",
       "      <td>0</td>\n",
       "      <td>0</td>\n",
       "      <td>0</td>\n",
       "      <td>0</td>\n",
       "      <td>0</td>\n",
       "      <td>0</td>\n",
       "      <td>0</td>\n",
       "      <td>0</td>\n",
       "      <td>0</td>\n",
       "      <td>...</td>\n",
       "      <td>0</td>\n",
       "      <td>0</td>\n",
       "      <td>0</td>\n",
       "      <td>0</td>\n",
       "      <td>0</td>\n",
       "      <td>0</td>\n",
       "      <td>0</td>\n",
       "      <td>0</td>\n",
       "      <td>0</td>\n",
       "      <td>0</td>\n",
       "    </tr>\n",
       "    <tr>\n",
       "      <th>12090</th>\n",
       "      <td>explainlikeimfive</td>\n",
       "      <td>0</td>\n",
       "      <td>0</td>\n",
       "      <td>0</td>\n",
       "      <td>0</td>\n",
       "      <td>0</td>\n",
       "      <td>0</td>\n",
       "      <td>0</td>\n",
       "      <td>0</td>\n",
       "      <td>0</td>\n",
       "      <td>...</td>\n",
       "      <td>0</td>\n",
       "      <td>0</td>\n",
       "      <td>0</td>\n",
       "      <td>0</td>\n",
       "      <td>0</td>\n",
       "      <td>0</td>\n",
       "      <td>0</td>\n",
       "      <td>0</td>\n",
       "      <td>0</td>\n",
       "      <td>0</td>\n",
       "    </tr>\n",
       "    <tr>\n",
       "      <th>12091</th>\n",
       "      <td>explainlikeimfive</td>\n",
       "      <td>0</td>\n",
       "      <td>0</td>\n",
       "      <td>0</td>\n",
       "      <td>0</td>\n",
       "      <td>0</td>\n",
       "      <td>0</td>\n",
       "      <td>0</td>\n",
       "      <td>0</td>\n",
       "      <td>0</td>\n",
       "      <td>...</td>\n",
       "      <td>0</td>\n",
       "      <td>0</td>\n",
       "      <td>0</td>\n",
       "      <td>0</td>\n",
       "      <td>0</td>\n",
       "      <td>0</td>\n",
       "      <td>0</td>\n",
       "      <td>0</td>\n",
       "      <td>0</td>\n",
       "      <td>0</td>\n",
       "    </tr>\n",
       "    <tr>\n",
       "      <th>12092</th>\n",
       "      <td>explainlikeimfive</td>\n",
       "      <td>0</td>\n",
       "      <td>0</td>\n",
       "      <td>0</td>\n",
       "      <td>0</td>\n",
       "      <td>0</td>\n",
       "      <td>0</td>\n",
       "      <td>0</td>\n",
       "      <td>0</td>\n",
       "      <td>0</td>\n",
       "      <td>...</td>\n",
       "      <td>0</td>\n",
       "      <td>0</td>\n",
       "      <td>0</td>\n",
       "      <td>0</td>\n",
       "      <td>0</td>\n",
       "      <td>0</td>\n",
       "      <td>0</td>\n",
       "      <td>0</td>\n",
       "      <td>0</td>\n",
       "      <td>0</td>\n",
       "    </tr>\n",
       "    <tr>\n",
       "      <th>12093</th>\n",
       "      <td>explainlikeimfive</td>\n",
       "      <td>0</td>\n",
       "      <td>0</td>\n",
       "      <td>0</td>\n",
       "      <td>0</td>\n",
       "      <td>0</td>\n",
       "      <td>0</td>\n",
       "      <td>0</td>\n",
       "      <td>0</td>\n",
       "      <td>0</td>\n",
       "      <td>...</td>\n",
       "      <td>0</td>\n",
       "      <td>0</td>\n",
       "      <td>0</td>\n",
       "      <td>0</td>\n",
       "      <td>0</td>\n",
       "      <td>0</td>\n",
       "      <td>0</td>\n",
       "      <td>0</td>\n",
       "      <td>0</td>\n",
       "      <td>0</td>\n",
       "    </tr>\n",
       "  </tbody>\n",
       "</table>\n",
       "<p>12094 rows × 10000 columns</p>\n",
       "</div>"
      ],
      "text/plain": [
       "                    subr  000  06  08  09  09 24  09 25  09 26  0x06  \\\n",
       "0            Battlefield    0   0   0   0      0      0      0     0   \n",
       "1            Battlefield    0   0   0   0      0      0      0     0   \n",
       "2            Battlefield    0   0   0   0      0      0      0     0   \n",
       "3            Battlefield    0   0   0   0      0      0      0     0   \n",
       "4            Battlefield    0   0   0   0      0      0      0     0   \n",
       "...                  ...  ...  ..  ..  ..    ...    ...    ...   ...   \n",
       "12089  explainlikeimfive    0   0   0   0      0      0      0     0   \n",
       "12090  explainlikeimfive    0   0   0   0      0      0      0     0   \n",
       "12091  explainlikeimfive    0   0   0   0      0      0      0     0   \n",
       "12092  explainlikeimfive    0   0   0   0      0      0      0     0   \n",
       "12093  explainlikeimfive    0   0   0   0      0      0      0     0   \n",
       "\n",
       "       0xc0000142  ...  zero  zeroing  zombie  zombie apocalypse  zombies  \\\n",
       "0               0  ...     0        0       0                  0        0   \n",
       "1               0  ...     0        0       0                  0        0   \n",
       "2               0  ...     0        0       0                  0        0   \n",
       "3               0  ...     0        0       0                  0        0   \n",
       "4               0  ...     0        0       0                  0        0   \n",
       "...           ...  ...   ...      ...     ...                ...      ...   \n",
       "12089           0  ...     0        0       0                  0        0   \n",
       "12090           0  ...     0        0       0                  0        0   \n",
       "12091           0  ...     0        0       0                  0        0   \n",
       "12092           0  ...     0        0       0                  0        0   \n",
       "12093           0  ...     0        0       0                  0        0   \n",
       "\n",
       "       zone  zones  zoo  zoo tycoon  zoom  \n",
       "0         0      0    0           0     0  \n",
       "1         0      0    0           0     0  \n",
       "2         0      0    0           0     0  \n",
       "3         0      0    0           0     0  \n",
       "4         0      0    0           0     0  \n",
       "...     ...    ...  ...         ...   ...  \n",
       "12089     0      0    0           0     0  \n",
       "12090     0      0    0           0     0  \n",
       "12091     0      0    0           0     0  \n",
       "12092     0      0    0           0     0  \n",
       "12093     0      0    0           0     0  \n",
       "\n",
       "[12094 rows x 10000 columns]"
      ]
     },
     "execution_count": 23,
     "metadata": {},
     "output_type": "execute_result"
    }
   ],
   "source": [
    "eda_title_df"
   ]
  },
  {
   "cell_type": "code",
   "execution_count": 60,
   "id": "5de7e830",
   "metadata": {},
   "outputs": [],
   "source": [
    "btlfld_freq_w = eda_title_df[eda_title_df['subr']=='Battlefield'].drop('subr', axis=1).sum().sort_values(ascending=False).head(10)"
   ]
  },
  {
   "cell_type": "code",
   "execution_count": 61,
   "id": "8f7da57f",
   "metadata": {
    "scrolled": true
   },
   "outputs": [],
   "source": [
    "eli5_freq_w = eda_title_df[eda_title_df['subr']=='explainlikeimfive'].drop('subr', axis=1).sum().sort_values(ascending=False).head(10)"
   ]
  },
  {
   "cell_type": "code",
   "execution_count": 88,
   "id": "ec6cf892",
   "metadata": {},
   "outputs": [],
   "source": [
    "eli5_freq_w_te = eda_text_df[eda_text_df['subr']=='explainlikeimfive'].drop('subr', axis=1).sum().sort_values(ascending=False).head(10)"
   ]
  },
  {
   "cell_type": "code",
   "execution_count": 62,
   "id": "470d0b3d",
   "metadata": {
    "scrolled": true
   },
   "outputs": [],
   "source": [
    "mlco_freq_w = eda_title_df[eda_title_df['subr']=='MaliciousCompliance'].drop('subr', axis=1).sum().sort_values(ascending=False).head(10)"
   ]
  },
  {
   "cell_type": "code",
   "execution_count": 63,
   "id": "87f5a059",
   "metadata": {
    "scrolled": false
   },
   "outputs": [],
   "source": [
    "xx_freq_w = eda_title_df[eda_title_df['subr']=='TwoXChromosomes'].drop('subr', axis=1).sum().sort_values(ascending=False).head(10)"
   ]
  },
  {
   "cell_type": "code",
   "execution_count": 92,
   "id": "4327af10",
   "metadata": {},
   "outputs": [],
   "source": [
    "xx_freq_w_te = eda_text_df[eda_text_df['subr']=='TwoXChromosomes'].drop('subr', axis=1).sum().sort_values(ascending=False).head(10)"
   ]
  },
  {
   "cell_type": "code",
   "execution_count": 64,
   "id": "5b070c73",
   "metadata": {},
   "outputs": [],
   "source": [
    "joke_freq_w = eda_title_df[eda_title_df['subr']=='Jokes'].drop('subr', axis=1).sum().sort_values(ascending=False).head(10)"
   ]
  },
  {
   "cell_type": "code",
   "execution_count": 90,
   "id": "c40c6c50",
   "metadata": {},
   "outputs": [],
   "source": [
    "joke_freq_w_te = eda_text_df[eda_text_df['subr']=='Jokes'].drop('subr', axis=1).sum().sort_values(ascending=False).head(10)"
   ]
  },
  {
   "cell_type": "code",
   "execution_count": 81,
   "id": "6df64e17",
   "metadata": {},
   "outputs": [
    {
     "name": "stdout",
     "output_type": "stream",
     "text": [
      "<list_reverseiterator object at 0x000001C1A5125130>\n"
     ]
    }
   ],
   "source": [
    "print(reversed(sorted(joke_freq_w)))"
   ]
  },
  {
   "cell_type": "code",
   "execution_count": 86,
   "id": "3eacb9e8",
   "metadata": {},
   "outputs": [
    {
     "data": {
      "image/png": "[encoded data removed]",
      "text/plain": [
       "<Figure size 720x360 with 1 Axes>"
      ]
     },
     "metadata": {
      "needs_background": "light"
     },
     "output_type": "display_data"
    }
   ],
   "source": [
    "plt.figure(figsize=(10,5))\n",
    "plt.title('Most frequent words in ELI5 subr')\n",
    "plt.ylabel('Words')\n",
    "plt.xlabel('Freq')\n",
    "plt.barh(y=eli5_freq_w.index, width = eli5_freq_w)\n",
    "plt.savefig('../graphs/eli5_xx.jpg');"
   ]
  },
  {
   "cell_type": "code",
   "execution_count": 89,
   "id": "ea34dcc8",
   "metadata": {},
   "outputs": [
    {
     "data": {
      "image/png": "[encoded data removed]",
      "text/plain": [
       "<Figure size 720x360 with 1 Axes>"
      ]
     },
     "metadata": {
      "needs_background": "light"
     },
     "output_type": "display_data"
    }
   ],
   "source": [
    "plt.figure(figsize=(10,5))\n",
    "plt.title('Most frequent words in ELI5 subr text')\n",
    "plt.ylabel('Words')\n",
    "plt.xlabel('Freq')\n",
    "plt.barh(y=eli5_freq_w_te.index, width = eli5_freq_w_te)\n",
    "plt.savefig('../graphs/eli5_xx_te.jpg');"
   ]
  },
  {
   "cell_type": "code",
   "execution_count": 85,
   "id": "c860d256",
   "metadata": {
    "scrolled": true
   },
   "outputs": [
    {
     "data": {
      "image/png": "[encoded data removed]",
      "text/plain": [
       "<Figure size 720x360 with 1 Axes>"
      ]
     },
     "metadata": {
      "needs_background": "light"
     },
     "output_type": "display_data"
    }
   ],
   "source": [
    "plt.figure(figsize=(10,5))\n",
    "plt.title('Most frequent words in TwoXChromosome subr')\n",
    "plt.ylabel('Words')\n",
    "plt.xlabel('Freq')\n",
    "plt.barh(y=xx_freq_w.index, width = xx_freq_w)\n",
    "plt.savefig('../graphs/freq_xx.jpg');"
   ]
  },
  {
   "cell_type": "code",
   "execution_count": 93,
   "id": "dc145feb",
   "metadata": {},
   "outputs": [
    {
     "data": {
      "image/png": "[encoded data removed]",
      "text/plain": [
       "<Figure size 720x360 with 1 Axes>"
      ]
     },
     "metadata": {
      "needs_background": "light"
     },
     "output_type": "display_data"
    }
   ],
   "source": [
    "plt.figure(figsize=(10,5))\n",
    "plt.title('Most frequent words in TwoXChromosome subr text')\n",
    "plt.ylabel('Words')\n",
    "plt.xlabel('Freq')\n",
    "plt.barh(y=xx_freq_w_te.index, width = xx_freq_w_te)\n",
    "plt.savefig('../graphs/freq_xxte.jpg');"
   ]
  },
  {
   "cell_type": "code",
   "execution_count": 83,
   "id": "ba618bf2",
   "metadata": {},
   "outputs": [
    {
     "data": {
      "image/png": "[encoded data removed]",
      "text/plain": [
       "<Figure size 720x360 with 1 Axes>"
      ]
     },
     "metadata": {
      "needs_background": "light"
     },
     "output_type": "display_data"
    }
   ],
   "source": [
    "plt.figure(figsize=(10,5))\n",
    "plt.title('Most frequent words in Jokes subr')\n",
    "plt.ylabel('Words')\n",
    "plt.xlabel('Freq')\n",
    "plt.barh(y=joke_freq_w.index, width = joke_freq_w)\n",
    "plt.savefig('../graphs/freq_jokes.jpg');"
   ]
  },
  {
   "cell_type": "code",
   "execution_count": 91,
   "id": "21b12691",
   "metadata": {},
   "outputs": [
    {
     "data": {
      "image/png": "[encoded data removed]",
      "text/plain": [
       "<Figure size 720x360 with 1 Axes>"
      ]
     },
     "metadata": {
      "needs_background": "light"
     },
     "output_type": "display_data"
    }
   ],
   "source": [
    "plt.figure(figsize=(10,5))\n",
    "plt.title('Most frequent words in Jokes subr text')\n",
    "plt.ylabel('Words')\n",
    "plt.xlabel('Freq')\n",
    "plt.barh(y=joke_freq_w_te.index, width = joke_freq_w_te)\n",
    "plt.savefig('../graphs/freq_jokes_te.jpg');"
   ]
  },
  {
   "cell_type": "code",
   "execution_count": 24,
   "id": "58624250",
   "metadata": {},
   "outputs": [
    {
     "data": {
      "text/html": [
       "<div>\n",
       "<style scoped>\n",
       "    .dataframe tbody tr th:only-of-type {\n",
       "        vertical-align: middle;\n",
       "    }\n",
       "\n",
       "    .dataframe tbody tr th {\n",
       "        vertical-align: top;\n",
       "    }\n",
       "\n",
       "    .dataframe thead th {\n",
       "        text-align: right;\n",
       "    }\n",
       "</style>\n",
       "<table border=\"1\" class=\"dataframe\">\n",
       "  <thead>\n",
       "    <tr style=\"text-align: right;\">\n",
       "      <th></th>\n",
       "      <th>000</th>\n",
       "      <th>06</th>\n",
       "      <th>08</th>\n",
       "      <th>09</th>\n",
       "      <th>09 24</th>\n",
       "      <th>09 25</th>\n",
       "      <th>09 26</th>\n",
       "      <th>0x06</th>\n",
       "      <th>0xc0000142</th>\n",
       "      <th>10</th>\n",
       "      <th>...</th>\n",
       "      <th>zero</th>\n",
       "      <th>zeroing</th>\n",
       "      <th>zombie</th>\n",
       "      <th>zombie apocalypse</th>\n",
       "      <th>zombies</th>\n",
       "      <th>zone</th>\n",
       "      <th>zones</th>\n",
       "      <th>zoo</th>\n",
       "      <th>zoo tycoon</th>\n",
       "      <th>zoom</th>\n",
       "    </tr>\n",
       "  </thead>\n",
       "  <tbody>\n",
       "    <tr>\n",
       "      <th>0</th>\n",
       "      <td>0</td>\n",
       "      <td>0</td>\n",
       "      <td>0</td>\n",
       "      <td>0</td>\n",
       "      <td>0</td>\n",
       "      <td>0</td>\n",
       "      <td>0</td>\n",
       "      <td>0</td>\n",
       "      <td>0</td>\n",
       "      <td>0</td>\n",
       "      <td>...</td>\n",
       "      <td>0</td>\n",
       "      <td>0</td>\n",
       "      <td>0</td>\n",
       "      <td>0</td>\n",
       "      <td>0</td>\n",
       "      <td>0</td>\n",
       "      <td>0</td>\n",
       "      <td>0</td>\n",
       "      <td>0</td>\n",
       "      <td>0</td>\n",
       "    </tr>\n",
       "    <tr>\n",
       "      <th>1</th>\n",
       "      <td>0</td>\n",
       "      <td>0</td>\n",
       "      <td>0</td>\n",
       "      <td>0</td>\n",
       "      <td>0</td>\n",
       "      <td>0</td>\n",
       "      <td>0</td>\n",
       "      <td>0</td>\n",
       "      <td>0</td>\n",
       "      <td>0</td>\n",
       "      <td>...</td>\n",
       "      <td>0</td>\n",
       "      <td>0</td>\n",
       "      <td>0</td>\n",
       "      <td>0</td>\n",
       "      <td>0</td>\n",
       "      <td>0</td>\n",
       "      <td>0</td>\n",
       "      <td>0</td>\n",
       "      <td>0</td>\n",
       "      <td>0</td>\n",
       "    </tr>\n",
       "    <tr>\n",
       "      <th>2</th>\n",
       "      <td>0</td>\n",
       "      <td>0</td>\n",
       "      <td>0</td>\n",
       "      <td>0</td>\n",
       "      <td>0</td>\n",
       "      <td>0</td>\n",
       "      <td>0</td>\n",
       "      <td>0</td>\n",
       "      <td>0</td>\n",
       "      <td>0</td>\n",
       "      <td>...</td>\n",
       "      <td>0</td>\n",
       "      <td>0</td>\n",
       "      <td>0</td>\n",
       "      <td>0</td>\n",
       "      <td>0</td>\n",
       "      <td>0</td>\n",
       "      <td>0</td>\n",
       "      <td>0</td>\n",
       "      <td>0</td>\n",
       "      <td>0</td>\n",
       "    </tr>\n",
       "    <tr>\n",
       "      <th>3</th>\n",
       "      <td>0</td>\n",
       "      <td>0</td>\n",
       "      <td>0</td>\n",
       "      <td>0</td>\n",
       "      <td>0</td>\n",
       "      <td>0</td>\n",
       "      <td>0</td>\n",
       "      <td>0</td>\n",
       "      <td>0</td>\n",
       "      <td>0</td>\n",
       "      <td>...</td>\n",
       "      <td>0</td>\n",
       "      <td>0</td>\n",
       "      <td>0</td>\n",
       "      <td>0</td>\n",
       "      <td>0</td>\n",
       "      <td>0</td>\n",
       "      <td>0</td>\n",
       "      <td>0</td>\n",
       "      <td>0</td>\n",
       "      <td>0</td>\n",
       "    </tr>\n",
       "    <tr>\n",
       "      <th>4</th>\n",
       "      <td>0</td>\n",
       "      <td>0</td>\n",
       "      <td>0</td>\n",
       "      <td>0</td>\n",
       "      <td>0</td>\n",
       "      <td>0</td>\n",
       "      <td>0</td>\n",
       "      <td>0</td>\n",
       "      <td>0</td>\n",
       "      <td>0</td>\n",
       "      <td>...</td>\n",
       "      <td>0</td>\n",
       "      <td>0</td>\n",
       "      <td>0</td>\n",
       "      <td>0</td>\n",
       "      <td>0</td>\n",
       "      <td>0</td>\n",
       "      <td>0</td>\n",
       "      <td>0</td>\n",
       "      <td>0</td>\n",
       "      <td>0</td>\n",
       "    </tr>\n",
       "    <tr>\n",
       "      <th>...</th>\n",
       "      <td>...</td>\n",
       "      <td>...</td>\n",
       "      <td>...</td>\n",
       "      <td>...</td>\n",
       "      <td>...</td>\n",
       "      <td>...</td>\n",
       "      <td>...</td>\n",
       "      <td>...</td>\n",
       "      <td>...</td>\n",
       "      <td>...</td>\n",
       "      <td>...</td>\n",
       "      <td>...</td>\n",
       "      <td>...</td>\n",
       "      <td>...</td>\n",
       "      <td>...</td>\n",
       "      <td>...</td>\n",
       "      <td>...</td>\n",
       "      <td>...</td>\n",
       "      <td>...</td>\n",
       "      <td>...</td>\n",
       "      <td>...</td>\n",
       "    </tr>\n",
       "    <tr>\n",
       "      <th>12089</th>\n",
       "      <td>0</td>\n",
       "      <td>0</td>\n",
       "      <td>0</td>\n",
       "      <td>0</td>\n",
       "      <td>0</td>\n",
       "      <td>0</td>\n",
       "      <td>0</td>\n",
       "      <td>0</td>\n",
       "      <td>0</td>\n",
       "      <td>0</td>\n",
       "      <td>...</td>\n",
       "      <td>0</td>\n",
       "      <td>0</td>\n",
       "      <td>0</td>\n",
       "      <td>0</td>\n",
       "      <td>0</td>\n",
       "      <td>0</td>\n",
       "      <td>0</td>\n",
       "      <td>0</td>\n",
       "      <td>0</td>\n",
       "      <td>0</td>\n",
       "    </tr>\n",
       "    <tr>\n",
       "      <th>12090</th>\n",
       "      <td>0</td>\n",
       "      <td>0</td>\n",
       "      <td>0</td>\n",
       "      <td>0</td>\n",
       "      <td>0</td>\n",
       "      <td>0</td>\n",
       "      <td>0</td>\n",
       "      <td>0</td>\n",
       "      <td>0</td>\n",
       "      <td>0</td>\n",
       "      <td>...</td>\n",
       "      <td>0</td>\n",
       "      <td>0</td>\n",
       "      <td>0</td>\n",
       "      <td>0</td>\n",
       "      <td>0</td>\n",
       "      <td>0</td>\n",
       "      <td>0</td>\n",
       "      <td>0</td>\n",
       "      <td>0</td>\n",
       "      <td>0</td>\n",
       "    </tr>\n",
       "    <tr>\n",
       "      <th>12091</th>\n",
       "      <td>0</td>\n",
       "      <td>0</td>\n",
       "      <td>0</td>\n",
       "      <td>0</td>\n",
       "      <td>0</td>\n",
       "      <td>0</td>\n",
       "      <td>0</td>\n",
       "      <td>0</td>\n",
       "      <td>0</td>\n",
       "      <td>0</td>\n",
       "      <td>...</td>\n",
       "      <td>0</td>\n",
       "      <td>0</td>\n",
       "      <td>0</td>\n",
       "      <td>0</td>\n",
       "      <td>0</td>\n",
       "      <td>0</td>\n",
       "      <td>0</td>\n",
       "      <td>0</td>\n",
       "      <td>0</td>\n",
       "      <td>0</td>\n",
       "    </tr>\n",
       "    <tr>\n",
       "      <th>12092</th>\n",
       "      <td>0</td>\n",
       "      <td>0</td>\n",
       "      <td>0</td>\n",
       "      <td>0</td>\n",
       "      <td>0</td>\n",
       "      <td>0</td>\n",
       "      <td>0</td>\n",
       "      <td>0</td>\n",
       "      <td>0</td>\n",
       "      <td>0</td>\n",
       "      <td>...</td>\n",
       "      <td>0</td>\n",
       "      <td>0</td>\n",
       "      <td>0</td>\n",
       "      <td>0</td>\n",
       "      <td>0</td>\n",
       "      <td>0</td>\n",
       "      <td>0</td>\n",
       "      <td>0</td>\n",
       "      <td>0</td>\n",
       "      <td>0</td>\n",
       "    </tr>\n",
       "    <tr>\n",
       "      <th>12093</th>\n",
       "      <td>0</td>\n",
       "      <td>0</td>\n",
       "      <td>0</td>\n",
       "      <td>0</td>\n",
       "      <td>0</td>\n",
       "      <td>0</td>\n",
       "      <td>0</td>\n",
       "      <td>0</td>\n",
       "      <td>0</td>\n",
       "      <td>0</td>\n",
       "      <td>...</td>\n",
       "      <td>0</td>\n",
       "      <td>0</td>\n",
       "      <td>0</td>\n",
       "      <td>0</td>\n",
       "      <td>0</td>\n",
       "      <td>0</td>\n",
       "      <td>0</td>\n",
       "      <td>0</td>\n",
       "      <td>0</td>\n",
       "      <td>0</td>\n",
       "    </tr>\n",
       "  </tbody>\n",
       "</table>\n",
       "<p>12094 rows × 9999 columns</p>\n",
       "</div>"
      ],
      "text/plain": [
       "       000  06  08  09  09 24  09 25  09 26  0x06  0xc0000142  10  ...  zero  \\\n",
       "0        0   0   0   0      0      0      0     0           0   0  ...     0   \n",
       "1        0   0   0   0      0      0      0     0           0   0  ...     0   \n",
       "2        0   0   0   0      0      0      0     0           0   0  ...     0   \n",
       "3        0   0   0   0      0      0      0     0           0   0  ...     0   \n",
       "4        0   0   0   0      0      0      0     0           0   0  ...     0   \n",
       "...    ...  ..  ..  ..    ...    ...    ...   ...         ...  ..  ...   ...   \n",
       "12089    0   0   0   0      0      0      0     0           0   0  ...     0   \n",
       "12090    0   0   0   0      0      0      0     0           0   0  ...     0   \n",
       "12091    0   0   0   0      0      0      0     0           0   0  ...     0   \n",
       "12092    0   0   0   0      0      0      0     0           0   0  ...     0   \n",
       "12093    0   0   0   0      0      0      0     0           0   0  ...     0   \n",
       "\n",
       "       zeroing  zombie  zombie apocalypse  zombies  zone  zones  zoo  \\\n",
       "0            0       0                  0        0     0      0    0   \n",
       "1            0       0                  0        0     0      0    0   \n",
       "2            0       0                  0        0     0      0    0   \n",
       "3            0       0                  0        0     0      0    0   \n",
       "4            0       0                  0        0     0      0    0   \n",
       "...        ...     ...                ...      ...   ...    ...  ...   \n",
       "12089        0       0                  0        0     0      0    0   \n",
       "12090        0       0                  0        0     0      0    0   \n",
       "12091        0       0                  0        0     0      0    0   \n",
       "12092        0       0                  0        0     0      0    0   \n",
       "12093        0       0                  0        0     0      0    0   \n",
       "\n",
       "       zoo tycoon  zoom  \n",
       "0               0     0  \n",
       "1               0     0  \n",
       "2               0     0  \n",
       "3               0     0  \n",
       "4               0     0  \n",
       "...           ...   ...  \n",
       "12089           0     0  \n",
       "12090           0     0  \n",
       "12091           0     0  \n",
       "12092           0     0  \n",
       "12093           0     0  \n",
       "\n",
       "[12094 rows x 9999 columns]"
      ]
     },
     "execution_count": 24,
     "metadata": {},
     "output_type": "execute_result"
    }
   ],
   "source": [
    "dfb_title_cvec"
   ]
  },
  {
   "cell_type": "code",
   "execution_count": null,
   "id": "312642b8",
   "metadata": {},
   "outputs": [],
   "source": []
  },
  {
   "cell_type": "code",
   "execution_count": 25,
   "id": "c56b09f0",
   "metadata": {
    "scrolled": false
   },
   "outputs": [
    {
     "data": {
      "image/png": "[encoded data removed]",
      "text/plain": [
       "<Figure size 432x288 with 1 Axes>"
      ]
     },
     "metadata": {
      "needs_background": "light"
     },
     "output_type": "display_data"
    }
   ],
   "source": [
    "plt.title(f'Most frequent words in subreddit title')\n",
    "dfb_title_cvec.sum().sort_values(ascending=False).head(10).sort_values(ascending=True).plot(kind='barh');"
   ]
  },
  {
   "cell_type": "code",
   "execution_count": 87,
   "id": "386be294",
   "metadata": {},
   "outputs": [
    {
     "data": {
      "image/png": "[encoded data removed]",
      "text/plain": [
       "<Figure size 432x288 with 1 Axes>"
      ]
     },
     "metadata": {
      "needs_background": "light"
     },
     "output_type": "display_data"
    }
   ],
   "source": [
    "plt.title(f'Most frequent words in subreddit text')\n",
    "dfb_text_cvec.sum().sort_values(ascending=False).head(10).sort_values(ascending=True).plot(kind='barh');"
   ]
  },
  {
   "cell_type": "code",
   "execution_count": 26,
   "id": "82be38fe",
   "metadata": {},
   "outputs": [],
   "source": [
    "cvec_text = CountVectorizer(stop_words='english', ngram_range=(1, 2), max_features=10_000, max_df=.95)"
   ]
  },
  {
   "cell_type": "code",
   "execution_count": 27,
   "id": "29b4da57",
   "metadata": {},
   "outputs": [
    {
     "data": {
      "text/plain": [
       "CountVectorizer(max_df=0.95, max_features=10000, ngram_range=(1, 2),\n",
       "                stop_words='english')"
      ]
     },
     "execution_count": 27,
     "metadata": {},
     "output_type": "execute_result"
    }
   ],
   "source": [
    "cvec_text.fit(dfb['selftext'])"
   ]
  },
  {
   "cell_type": "code",
   "execution_count": 28,
   "id": "c3f77118",
   "metadata": {},
   "outputs": [],
   "source": [
    "dfb_text_cvec = cvec.transform(dfb['selftext'])"
   ]
  },
  {
   "cell_type": "code",
   "execution_count": 29,
   "id": "72dd8aba",
   "metadata": {},
   "outputs": [],
   "source": [
    "dfb_text_cvec = pd.DataFrame(dfb_text_cvec.todense(), \n",
    "                          columns=cvec.get_feature_names())"
   ]
  },
  {
   "cell_type": "code",
   "execution_count": 30,
   "id": "31ed9e25",
   "metadata": {},
   "outputs": [
    {
     "data": {
      "text/plain": [
       "(12094, 10000)"
      ]
     },
     "execution_count": 30,
     "metadata": {},
     "output_type": "execute_result"
    }
   ],
   "source": [
    "dfb_text_cvec.shape"
   ]
  },
  {
   "cell_type": "code",
   "execution_count": 31,
   "id": "a2b719b3",
   "metadata": {},
   "outputs": [
    {
     "data": {
      "image/png": "[encoded data removed]",
      "text/plain": [
       "<Figure size 432x288 with 1 Axes>"
      ]
     },
     "metadata": {
      "needs_background": "light"
     },
     "output_type": "display_data"
    }
   ],
   "source": [
    "plt.title(f'Most frequent words in subreddit text')\n",
    "dfb_text_cvec.sum().sort_values(ascending=False).head(10).sort_values(ascending=True).plot(kind='barh');"
   ]
  },
  {
   "cell_type": "code",
   "execution_count": 32,
   "id": "8905b30a",
   "metadata": {},
   "outputs": [
    {
     "data": {
      "text/html": [
       "<div>\n",
       "<style scoped>\n",
       "    .dataframe tbody tr th:only-of-type {\n",
       "        vertical-align: middle;\n",
       "    }\n",
       "\n",
       "    .dataframe tbody tr th {\n",
       "        vertical-align: top;\n",
       "    }\n",
       "\n",
       "    .dataframe thead th {\n",
       "        text-align: right;\n",
       "    }\n",
       "</style>\n",
       "<table border=\"1\" class=\"dataframe\">\n",
       "  <thead>\n",
       "    <tr style=\"text-align: right;\">\n",
       "      <th></th>\n",
       "      <th>subr</th>\n",
       "      <th>000</th>\n",
       "      <th>06</th>\n",
       "      <th>08</th>\n",
       "      <th>09</th>\n",
       "      <th>09 24</th>\n",
       "      <th>09 25</th>\n",
       "      <th>09 26</th>\n",
       "      <th>0x06</th>\n",
       "      <th>0xc0000142</th>\n",
       "      <th>...</th>\n",
       "      <th>zero</th>\n",
       "      <th>zeroing</th>\n",
       "      <th>zombie</th>\n",
       "      <th>zombie apocalypse</th>\n",
       "      <th>zombies</th>\n",
       "      <th>zone</th>\n",
       "      <th>zones</th>\n",
       "      <th>zoo</th>\n",
       "      <th>zoo tycoon</th>\n",
       "      <th>zoom</th>\n",
       "    </tr>\n",
       "  </thead>\n",
       "  <tbody>\n",
       "    <tr>\n",
       "      <th>0</th>\n",
       "      <td>Battlefield</td>\n",
       "      <td>0</td>\n",
       "      <td>0</td>\n",
       "      <td>0</td>\n",
       "      <td>0</td>\n",
       "      <td>0</td>\n",
       "      <td>0</td>\n",
       "      <td>0</td>\n",
       "      <td>0</td>\n",
       "      <td>0</td>\n",
       "      <td>...</td>\n",
       "      <td>0</td>\n",
       "      <td>0</td>\n",
       "      <td>0</td>\n",
       "      <td>0</td>\n",
       "      <td>0</td>\n",
       "      <td>0</td>\n",
       "      <td>0</td>\n",
       "      <td>0</td>\n",
       "      <td>0</td>\n",
       "      <td>0</td>\n",
       "    </tr>\n",
       "    <tr>\n",
       "      <th>1</th>\n",
       "      <td>Battlefield</td>\n",
       "      <td>0</td>\n",
       "      <td>0</td>\n",
       "      <td>0</td>\n",
       "      <td>0</td>\n",
       "      <td>0</td>\n",
       "      <td>0</td>\n",
       "      <td>0</td>\n",
       "      <td>0</td>\n",
       "      <td>0</td>\n",
       "      <td>...</td>\n",
       "      <td>0</td>\n",
       "      <td>0</td>\n",
       "      <td>0</td>\n",
       "      <td>0</td>\n",
       "      <td>0</td>\n",
       "      <td>0</td>\n",
       "      <td>0</td>\n",
       "      <td>0</td>\n",
       "      <td>0</td>\n",
       "      <td>0</td>\n",
       "    </tr>\n",
       "    <tr>\n",
       "      <th>2</th>\n",
       "      <td>Battlefield</td>\n",
       "      <td>0</td>\n",
       "      <td>0</td>\n",
       "      <td>0</td>\n",
       "      <td>0</td>\n",
       "      <td>0</td>\n",
       "      <td>0</td>\n",
       "      <td>0</td>\n",
       "      <td>0</td>\n",
       "      <td>0</td>\n",
       "      <td>...</td>\n",
       "      <td>0</td>\n",
       "      <td>0</td>\n",
       "      <td>0</td>\n",
       "      <td>0</td>\n",
       "      <td>0</td>\n",
       "      <td>0</td>\n",
       "      <td>0</td>\n",
       "      <td>0</td>\n",
       "      <td>0</td>\n",
       "      <td>0</td>\n",
       "    </tr>\n",
       "    <tr>\n",
       "      <th>3</th>\n",
       "      <td>Battlefield</td>\n",
       "      <td>0</td>\n",
       "      <td>0</td>\n",
       "      <td>0</td>\n",
       "      <td>0</td>\n",
       "      <td>0</td>\n",
       "      <td>0</td>\n",
       "      <td>0</td>\n",
       "      <td>0</td>\n",
       "      <td>0</td>\n",
       "      <td>...</td>\n",
       "      <td>0</td>\n",
       "      <td>0</td>\n",
       "      <td>0</td>\n",
       "      <td>0</td>\n",
       "      <td>0</td>\n",
       "      <td>0</td>\n",
       "      <td>0</td>\n",
       "      <td>0</td>\n",
       "      <td>0</td>\n",
       "      <td>0</td>\n",
       "    </tr>\n",
       "    <tr>\n",
       "      <th>4</th>\n",
       "      <td>Battlefield</td>\n",
       "      <td>0</td>\n",
       "      <td>0</td>\n",
       "      <td>0</td>\n",
       "      <td>0</td>\n",
       "      <td>0</td>\n",
       "      <td>0</td>\n",
       "      <td>0</td>\n",
       "      <td>0</td>\n",
       "      <td>0</td>\n",
       "      <td>...</td>\n",
       "      <td>0</td>\n",
       "      <td>0</td>\n",
       "      <td>0</td>\n",
       "      <td>0</td>\n",
       "      <td>0</td>\n",
       "      <td>0</td>\n",
       "      <td>0</td>\n",
       "      <td>0</td>\n",
       "      <td>0</td>\n",
       "      <td>0</td>\n",
       "    </tr>\n",
       "    <tr>\n",
       "      <th>...</th>\n",
       "      <td>...</td>\n",
       "      <td>...</td>\n",
       "      <td>...</td>\n",
       "      <td>...</td>\n",
       "      <td>...</td>\n",
       "      <td>...</td>\n",
       "      <td>...</td>\n",
       "      <td>...</td>\n",
       "      <td>...</td>\n",
       "      <td>...</td>\n",
       "      <td>...</td>\n",
       "      <td>...</td>\n",
       "      <td>...</td>\n",
       "      <td>...</td>\n",
       "      <td>...</td>\n",
       "      <td>...</td>\n",
       "      <td>...</td>\n",
       "      <td>...</td>\n",
       "      <td>...</td>\n",
       "      <td>...</td>\n",
       "      <td>...</td>\n",
       "    </tr>\n",
       "    <tr>\n",
       "      <th>12089</th>\n",
       "      <td>explainlikeimfive</td>\n",
       "      <td>0</td>\n",
       "      <td>0</td>\n",
       "      <td>0</td>\n",
       "      <td>0</td>\n",
       "      <td>0</td>\n",
       "      <td>0</td>\n",
       "      <td>0</td>\n",
       "      <td>0</td>\n",
       "      <td>0</td>\n",
       "      <td>...</td>\n",
       "      <td>0</td>\n",
       "      <td>0</td>\n",
       "      <td>0</td>\n",
       "      <td>0</td>\n",
       "      <td>0</td>\n",
       "      <td>0</td>\n",
       "      <td>0</td>\n",
       "      <td>0</td>\n",
       "      <td>0</td>\n",
       "      <td>0</td>\n",
       "    </tr>\n",
       "    <tr>\n",
       "      <th>12090</th>\n",
       "      <td>explainlikeimfive</td>\n",
       "      <td>0</td>\n",
       "      <td>0</td>\n",
       "      <td>0</td>\n",
       "      <td>0</td>\n",
       "      <td>0</td>\n",
       "      <td>0</td>\n",
       "      <td>0</td>\n",
       "      <td>0</td>\n",
       "      <td>0</td>\n",
       "      <td>...</td>\n",
       "      <td>0</td>\n",
       "      <td>0</td>\n",
       "      <td>0</td>\n",
       "      <td>0</td>\n",
       "      <td>0</td>\n",
       "      <td>0</td>\n",
       "      <td>0</td>\n",
       "      <td>0</td>\n",
       "      <td>0</td>\n",
       "      <td>0</td>\n",
       "    </tr>\n",
       "    <tr>\n",
       "      <th>12091</th>\n",
       "      <td>explainlikeimfive</td>\n",
       "      <td>0</td>\n",
       "      <td>0</td>\n",
       "      <td>0</td>\n",
       "      <td>0</td>\n",
       "      <td>0</td>\n",
       "      <td>0</td>\n",
       "      <td>0</td>\n",
       "      <td>0</td>\n",
       "      <td>0</td>\n",
       "      <td>...</td>\n",
       "      <td>0</td>\n",
       "      <td>0</td>\n",
       "      <td>0</td>\n",
       "      <td>0</td>\n",
       "      <td>0</td>\n",
       "      <td>0</td>\n",
       "      <td>0</td>\n",
       "      <td>0</td>\n",
       "      <td>0</td>\n",
       "      <td>0</td>\n",
       "    </tr>\n",
       "    <tr>\n",
       "      <th>12092</th>\n",
       "      <td>explainlikeimfive</td>\n",
       "      <td>0</td>\n",
       "      <td>0</td>\n",
       "      <td>0</td>\n",
       "      <td>0</td>\n",
       "      <td>0</td>\n",
       "      <td>0</td>\n",
       "      <td>0</td>\n",
       "      <td>0</td>\n",
       "      <td>0</td>\n",
       "      <td>...</td>\n",
       "      <td>0</td>\n",
       "      <td>0</td>\n",
       "      <td>0</td>\n",
       "      <td>0</td>\n",
       "      <td>0</td>\n",
       "      <td>0</td>\n",
       "      <td>0</td>\n",
       "      <td>0</td>\n",
       "      <td>0</td>\n",
       "      <td>0</td>\n",
       "    </tr>\n",
       "    <tr>\n",
       "      <th>12093</th>\n",
       "      <td>explainlikeimfive</td>\n",
       "      <td>0</td>\n",
       "      <td>0</td>\n",
       "      <td>0</td>\n",
       "      <td>0</td>\n",
       "      <td>0</td>\n",
       "      <td>0</td>\n",
       "      <td>0</td>\n",
       "      <td>0</td>\n",
       "      <td>0</td>\n",
       "      <td>...</td>\n",
       "      <td>0</td>\n",
       "      <td>0</td>\n",
       "      <td>0</td>\n",
       "      <td>0</td>\n",
       "      <td>0</td>\n",
       "      <td>0</td>\n",
       "      <td>0</td>\n",
       "      <td>0</td>\n",
       "      <td>0</td>\n",
       "      <td>0</td>\n",
       "    </tr>\n",
       "  </tbody>\n",
       "</table>\n",
       "<p>12094 rows × 10001 columns</p>\n",
       "</div>"
      ],
      "text/plain": [
       "                    subr  000  06  08  09  09 24  09 25  09 26  0x06  \\\n",
       "0            Battlefield    0   0   0   0      0      0      0     0   \n",
       "1            Battlefield    0   0   0   0      0      0      0     0   \n",
       "2            Battlefield    0   0   0   0      0      0      0     0   \n",
       "3            Battlefield    0   0   0   0      0      0      0     0   \n",
       "4            Battlefield    0   0   0   0      0      0      0     0   \n",
       "...                  ...  ...  ..  ..  ..    ...    ...    ...   ...   \n",
       "12089  explainlikeimfive    0   0   0   0      0      0      0     0   \n",
       "12090  explainlikeimfive    0   0   0   0      0      0      0     0   \n",
       "12091  explainlikeimfive    0   0   0   0      0      0      0     0   \n",
       "12092  explainlikeimfive    0   0   0   0      0      0      0     0   \n",
       "12093  explainlikeimfive    0   0   0   0      0      0      0     0   \n",
       "\n",
       "       0xc0000142  ...  zero  zeroing  zombie  zombie apocalypse  zombies  \\\n",
       "0               0  ...     0        0       0                  0        0   \n",
       "1               0  ...     0        0       0                  0        0   \n",
       "2               0  ...     0        0       0                  0        0   \n",
       "3               0  ...     0        0       0                  0        0   \n",
       "4               0  ...     0        0       0                  0        0   \n",
       "...           ...  ...   ...      ...     ...                ...      ...   \n",
       "12089           0  ...     0        0       0                  0        0   \n",
       "12090           0  ...     0        0       0                  0        0   \n",
       "12091           0  ...     0        0       0                  0        0   \n",
       "12092           0  ...     0        0       0                  0        0   \n",
       "12093           0  ...     0        0       0                  0        0   \n",
       "\n",
       "       zone  zones  zoo  zoo tycoon  zoom  \n",
       "0         0      0    0           0     0  \n",
       "1         0      0    0           0     0  \n",
       "2         0      0    0           0     0  \n",
       "3         0      0    0           0     0  \n",
       "4         0      0    0           0     0  \n",
       "...     ...    ...  ...         ...   ...  \n",
       "12089     0      0    0           0     0  \n",
       "12090     0      0    0           0     0  \n",
       "12091     0      0    0           0     0  \n",
       "12092     0      0    0           0     0  \n",
       "12093     0      0    0           0     0  \n",
       "\n",
       "[12094 rows x 10001 columns]"
      ]
     },
     "execution_count": 32,
     "metadata": {},
     "output_type": "execute_result"
    }
   ],
   "source": [
    "eda_text_df = pd.concat([dfb['subr'], dfb_text_cvec], axis=1)\n",
    "eda_text_df"
   ]
  },
  {
   "cell_type": "code",
   "execution_count": 74,
   "id": "9a089194",
   "metadata": {},
   "outputs": [],
   "source": [
    "eda_title_df.to_csv('../data/title_cvec.csv', index=False)"
   ]
  },
  {
   "cell_type": "code",
   "execution_count": 75,
   "id": "7bc6e180",
   "metadata": {},
   "outputs": [],
   "source": [
    "eda_text_df.to_csv('../data/text_cvec.csv', index=False)"
   ]
  }
 ],
 "metadata": {
  "kernelspec": {
   "display_name": "Python 3",
   "language": "python",
   "name": "python3"
  },
  "language_info": {
   "codemirror_mode": {
    "name": "ipython",
    "version": 3
   },
   "file_extension": ".py",
   "mimetype": "text/x-python",
   "name": "python",
   "nbconvert_exporter": "python",
   "pygments_lexer": "ipython3",
   "version": "3.8.8"
  }
 },
 "nbformat": 4,
 "nbformat_minor": 5
}
