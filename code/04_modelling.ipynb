{
 "cells": [
  {
   "cell_type": "markdown",
   "id": "67d78a85",
   "metadata": {},
   "source": [
    "# Project 3, NLP - 04\n",
    "### by Joomart Achekeev"
   ]
  },
  {
   "cell_type": "code",
   "execution_count": 113,
   "id": "f499e1b0",
   "metadata": {},
   "outputs": [],
   "source": [
    "import pandas as pd\n",
    "import matplotlib.pyplot as plt"
   ]
  },
  {
   "cell_type": "code",
   "execution_count": 2,
   "id": "a1e41eae",
   "metadata": {},
   "outputs": [],
   "source": [
    "dfte = pd.read_csv('../data/text_cvec.csv')"
   ]
  },
  {
   "cell_type": "code",
   "execution_count": 3,
   "id": "8c0cc1f9",
   "metadata": {},
   "outputs": [],
   "source": [
    "dfti = pd.read_csv('../data/title_cvec.csv')"
   ]
  },
  {
   "cell_type": "code",
   "execution_count": 4,
   "id": "5d7e7a66",
   "metadata": {},
   "outputs": [
    {
     "data": {
      "text/html": [
       "<div>\n",
       "<style scoped>\n",
       "    .dataframe tbody tr th:only-of-type {\n",
       "        vertical-align: middle;\n",
       "    }\n",
       "\n",
       "    .dataframe tbody tr th {\n",
       "        vertical-align: top;\n",
       "    }\n",
       "\n",
       "    .dataframe thead th {\n",
       "        text-align: right;\n",
       "    }\n",
       "</style>\n",
       "<table border=\"1\" class=\"dataframe\">\n",
       "  <thead>\n",
       "    <tr style=\"text-align: right;\">\n",
       "      <th></th>\n",
       "      <th>subr</th>\n",
       "      <th>000</th>\n",
       "      <th>06</th>\n",
       "      <th>08</th>\n",
       "      <th>09</th>\n",
       "      <th>09 24</th>\n",
       "      <th>09 25</th>\n",
       "      <th>09 26</th>\n",
       "      <th>0x06</th>\n",
       "      <th>0xc0000142</th>\n",
       "      <th>...</th>\n",
       "      <th>zero</th>\n",
       "      <th>zeroing</th>\n",
       "      <th>zombie</th>\n",
       "      <th>zombie apocalypse</th>\n",
       "      <th>zombies</th>\n",
       "      <th>zone</th>\n",
       "      <th>zones</th>\n",
       "      <th>zoo</th>\n",
       "      <th>zoo tycoon</th>\n",
       "      <th>zoom</th>\n",
       "    </tr>\n",
       "  </thead>\n",
       "  <tbody>\n",
       "    <tr>\n",
       "      <th>0</th>\n",
       "      <td>Battlefield</td>\n",
       "      <td>0</td>\n",
       "      <td>0</td>\n",
       "      <td>0</td>\n",
       "      <td>0</td>\n",
       "      <td>0</td>\n",
       "      <td>0</td>\n",
       "      <td>0</td>\n",
       "      <td>0</td>\n",
       "      <td>0</td>\n",
       "      <td>...</td>\n",
       "      <td>0</td>\n",
       "      <td>0</td>\n",
       "      <td>0</td>\n",
       "      <td>0</td>\n",
       "      <td>0</td>\n",
       "      <td>0</td>\n",
       "      <td>0</td>\n",
       "      <td>0</td>\n",
       "      <td>0</td>\n",
       "      <td>0</td>\n",
       "    </tr>\n",
       "    <tr>\n",
       "      <th>1</th>\n",
       "      <td>Battlefield</td>\n",
       "      <td>0</td>\n",
       "      <td>0</td>\n",
       "      <td>0</td>\n",
       "      <td>0</td>\n",
       "      <td>0</td>\n",
       "      <td>0</td>\n",
       "      <td>0</td>\n",
       "      <td>0</td>\n",
       "      <td>0</td>\n",
       "      <td>...</td>\n",
       "      <td>0</td>\n",
       "      <td>0</td>\n",
       "      <td>0</td>\n",
       "      <td>0</td>\n",
       "      <td>0</td>\n",
       "      <td>0</td>\n",
       "      <td>0</td>\n",
       "      <td>0</td>\n",
       "      <td>0</td>\n",
       "      <td>0</td>\n",
       "    </tr>\n",
       "    <tr>\n",
       "      <th>2</th>\n",
       "      <td>Battlefield</td>\n",
       "      <td>0</td>\n",
       "      <td>0</td>\n",
       "      <td>0</td>\n",
       "      <td>0</td>\n",
       "      <td>0</td>\n",
       "      <td>0</td>\n",
       "      <td>0</td>\n",
       "      <td>0</td>\n",
       "      <td>0</td>\n",
       "      <td>...</td>\n",
       "      <td>0</td>\n",
       "      <td>0</td>\n",
       "      <td>0</td>\n",
       "      <td>0</td>\n",
       "      <td>0</td>\n",
       "      <td>0</td>\n",
       "      <td>0</td>\n",
       "      <td>0</td>\n",
       "      <td>0</td>\n",
       "      <td>0</td>\n",
       "    </tr>\n",
       "    <tr>\n",
       "      <th>3</th>\n",
       "      <td>Battlefield</td>\n",
       "      <td>0</td>\n",
       "      <td>0</td>\n",
       "      <td>0</td>\n",
       "      <td>0</td>\n",
       "      <td>0</td>\n",
       "      <td>0</td>\n",
       "      <td>0</td>\n",
       "      <td>0</td>\n",
       "      <td>0</td>\n",
       "      <td>...</td>\n",
       "      <td>0</td>\n",
       "      <td>0</td>\n",
       "      <td>0</td>\n",
       "      <td>0</td>\n",
       "      <td>0</td>\n",
       "      <td>0</td>\n",
       "      <td>0</td>\n",
       "      <td>0</td>\n",
       "      <td>0</td>\n",
       "      <td>0</td>\n",
       "    </tr>\n",
       "    <tr>\n",
       "      <th>4</th>\n",
       "      <td>Battlefield</td>\n",
       "      <td>0</td>\n",
       "      <td>0</td>\n",
       "      <td>0</td>\n",
       "      <td>0</td>\n",
       "      <td>0</td>\n",
       "      <td>0</td>\n",
       "      <td>0</td>\n",
       "      <td>0</td>\n",
       "      <td>0</td>\n",
       "      <td>...</td>\n",
       "      <td>0</td>\n",
       "      <td>0</td>\n",
       "      <td>0</td>\n",
       "      <td>0</td>\n",
       "      <td>0</td>\n",
       "      <td>0</td>\n",
       "      <td>0</td>\n",
       "      <td>0</td>\n",
       "      <td>0</td>\n",
       "      <td>0</td>\n",
       "    </tr>\n",
       "  </tbody>\n",
       "</table>\n",
       "<p>5 rows × 10001 columns</p>\n",
       "</div>"
      ],
      "text/plain": [
       "          subr  000  06  08  09  09 24  09 25  09 26  0x06  0xc0000142  ...  \\\n",
       "0  Battlefield    0   0   0   0      0      0      0     0           0  ...   \n",
       "1  Battlefield    0   0   0   0      0      0      0     0           0  ...   \n",
       "2  Battlefield    0   0   0   0      0      0      0     0           0  ...   \n",
       "3  Battlefield    0   0   0   0      0      0      0     0           0  ...   \n",
       "4  Battlefield    0   0   0   0      0      0      0     0           0  ...   \n",
       "\n",
       "   zero  zeroing  zombie  zombie apocalypse  zombies  zone  zones  zoo  \\\n",
       "0     0        0       0                  0        0     0      0    0   \n",
       "1     0        0       0                  0        0     0      0    0   \n",
       "2     0        0       0                  0        0     0      0    0   \n",
       "3     0        0       0                  0        0     0      0    0   \n",
       "4     0        0       0                  0        0     0      0    0   \n",
       "\n",
       "   zoo tycoon  zoom  \n",
       "0           0     0  \n",
       "1           0     0  \n",
       "2           0     0  \n",
       "3           0     0  \n",
       "4           0     0  \n",
       "\n",
       "[5 rows x 10001 columns]"
      ]
     },
     "execution_count": 4,
     "metadata": {},
     "output_type": "execute_result"
    }
   ],
   "source": [
    "dfte.head()"
   ]
  },
  {
   "cell_type": "code",
   "execution_count": 5,
   "id": "d839e0d8",
   "metadata": {},
   "outputs": [],
   "source": [
    "sub_dict = {}\n",
    "for i in range(len(list(dfti['subr'].value_counts().index))):\n",
    "    sub_dict[sorted(list(dfti['subr'].value_counts().index))[i]] = (i + 1)"
   ]
  },
  {
   "cell_type": "code",
   "execution_count": 6,
   "id": "3b65fe54",
   "metadata": {},
   "outputs": [
    {
     "data": {
      "text/plain": [
       "{'Battlefield': 1,\n",
       " 'DestinyTheGame': 2,\n",
       " 'DnD': 3,\n",
       " 'EscapefromTarkov': 4,\n",
       " 'Jokes': 5,\n",
       " 'MaliciousCompliance': 6,\n",
       " 'PiratedGames': 7,\n",
       " 'TwoXChromosomes': 8,\n",
       " 'explainlikeimfive': 9}"
      ]
     },
     "execution_count": 6,
     "metadata": {},
     "output_type": "execute_result"
    }
   ],
   "source": [
    "sub_dict"
   ]
  },
  {
   "cell_type": "code",
   "execution_count": 7,
   "id": "da0ca9e4",
   "metadata": {},
   "outputs": [],
   "source": [
    "dfti['subr'] = dfti['subr'].map(sub_dict)\n",
    "dfte['subr'] = dfte['subr'].map(sub_dict)"
   ]
  },
  {
   "cell_type": "markdown",
   "id": "32917d7a",
   "metadata": {},
   "source": [
    "### Decision Tree"
   ]
  },
  {
   "cell_type": "code",
   "execution_count": 8,
   "id": "da5415eb",
   "metadata": {},
   "outputs": [],
   "source": [
    "from sklearn.model_selection import train_test_split, cross_val_predict, cross_val_score\n",
    "from sklearn.tree import DecisionTreeClassifier\n",
    "from sklearn.model_selection import GridSearchCV"
   ]
  },
  {
   "cell_type": "code",
   "execution_count": 9,
   "id": "deb8c47c",
   "metadata": {},
   "outputs": [],
   "source": [
    "Xti = dfti.drop(columns='subr')\n",
    "yti = dfti['subr']\n",
    "Xte = dfte.drop(columns='subr')\n",
    "yte = dfte['subr']"
   ]
  },
  {
   "cell_type": "code",
   "execution_count": 10,
   "id": "fafe0e2e",
   "metadata": {},
   "outputs": [],
   "source": [
    "Xti_train, Xti_test, yti_train, yti_test = train_test_split(Xti, yti, random_state=42)\n",
    "Xte_train, Xte_test, yte_train, yte_test = train_test_split(Xte, yte, random_state=42)"
   ]
  },
  {
   "cell_type": "code",
   "execution_count": 11,
   "id": "1d5bac0f",
   "metadata": {},
   "outputs": [],
   "source": [
    "dtc_ti = DecisionTreeClassifier(random_state=42)\n",
    "dtc_te = DecisionTreeClassifier(random_state=42)"
   ]
  },
  {
   "cell_type": "code",
   "execution_count": 12,
   "id": "6ad34915",
   "metadata": {},
   "outputs": [
    {
     "data": {
      "text/plain": [
       "DecisionTreeClassifier(random_state=42)"
      ]
     },
     "execution_count": 12,
     "metadata": {},
     "output_type": "execute_result"
    }
   ],
   "source": [
    "dtc_ti.fit(Xti_train, yti_train)"
   ]
  },
  {
   "cell_type": "code",
   "execution_count": 13,
   "id": "98621f56",
   "metadata": {},
   "outputs": [
    {
     "data": {
      "text/plain": [
       "DecisionTreeClassifier(random_state=42)"
      ]
     },
     "execution_count": 13,
     "metadata": {},
     "output_type": "execute_result"
    }
   ],
   "source": [
    "dtc_te.fit(Xte_train, yte_train)"
   ]
  },
  {
   "cell_type": "code",
   "execution_count": 14,
   "id": "a9336479",
   "metadata": {},
   "outputs": [
    {
     "data": {
      "text/plain": [
       "(0.9802646085997795, 0.5499338624338624)"
      ]
     },
     "execution_count": 14,
     "metadata": {},
     "output_type": "execute_result"
    }
   ],
   "source": [
    "dtc_ti.score(Xti_train, yti_train), dtc_ti.score(Xti_test, yti_test)"
   ]
  },
  {
   "cell_type": "code",
   "execution_count": 15,
   "id": "fb0b445d",
   "metadata": {},
   "outputs": [
    {
     "data": {
      "text/plain": [
       "(0.9889746416758545, 0.5876322751322751)"
      ]
     },
     "execution_count": 15,
     "metadata": {},
     "output_type": "execute_result"
    }
   ],
   "source": [
    "dtc_te.score(Xte_train, yte_train), dtc_te.score(Xte_test, yte_test)"
   ]
  },
  {
   "cell_type": "code",
   "execution_count": 16,
   "id": "01edafdb",
   "metadata": {},
   "outputs": [
    {
     "data": {
      "text/plain": [
       "0.5398015435501653"
      ]
     },
     "execution_count": 16,
     "metadata": {},
     "output_type": "execute_result"
    }
   ],
   "source": [
    "cross_val_score(dtc_ti, Xti_train, yti_train).mean()"
   ]
  },
  {
   "cell_type": "code",
   "execution_count": 17,
   "id": "93edad74",
   "metadata": {},
   "outputs": [
    {
     "data": {
      "text/plain": [
       "0.5715545755237045"
      ]
     },
     "execution_count": 17,
     "metadata": {},
     "output_type": "execute_result"
    }
   ],
   "source": [
    "cross_val_score(dtc_te, Xte_train, yte_train).mean()"
   ]
  },
  {
   "cell_type": "markdown",
   "id": "ecbc7063",
   "metadata": {},
   "source": [
    "at this stage the model has extreamly high variance. But the subreddit post text score is noticably higher than the subreddit post title score. Unfortunately GridSearchCV took forever to run even with few hyperparrameters tweaked(believe me, i spend couple of hours just on that grid search)."
   ]
  },
  {
   "cell_type": "code",
   "execution_count": 119,
   "id": "af715dee",
   "metadata": {},
   "outputs": [],
   "source": [
    "dtc_preds_ti = dtc_ti.predict(Xti_test)"
   ]
  },
  {
   "cell_type": "code",
   "execution_count": 118,
   "id": "19825904",
   "metadata": {
    "scrolled": true
   },
   "outputs": [
    {
     "data": {
      "image/png": "[encoded data removed]",
      "text/plain": [
       "<Figure size 432x288 with 1 Axes>"
      ]
     },
     "metadata": {
      "needs_background": "light"
     },
     "output_type": "display_data"
    }
   ],
   "source": [
    "plt.scatter(dtc_preds_ti, yti_test, alpha=0.01);"
   ]
  },
  {
   "cell_type": "code",
   "execution_count": 120,
   "id": "a91033fa",
   "metadata": {
    "scrolled": true
   },
   "outputs": [
    {
     "data": {
      "image/png": "[encoded data removed]",
      "text/plain": [
       "<Figure size 432x288 with 1 Axes>"
      ]
     },
     "metadata": {
      "needs_background": "light"
     },
     "output_type": "display_data"
    }
   ],
   "source": [
    "dtc_preds_te = dtc_te.predict(Xte_test)\n",
    "plt.scatter(dtc_preds_te, yte_test, alpha=0.01);"
   ]
  },
  {
   "cell_type": "code",
   "execution_count": 127,
   "id": "6aa59bc9",
   "metadata": {
    "scrolled": true
   },
   "outputs": [
    {
     "data": {
      "image/png": "[encoded data removed]",
      "text/plain": [
       "<Figure size 432x288 with 1 Axes>"
      ]
     },
     "metadata": {
      "needs_background": "light"
     },
     "output_type": "display_data"
    }
   ],
   "source": [
    "plt.hist(dtc_preds_ti - yti_test.mean(), bins=20);"
   ]
  },
  {
   "cell_type": "code",
   "execution_count": 128,
   "id": "0b14316e",
   "metadata": {},
   "outputs": [
    {
     "data": {
      "image/png": "[encoded data removed]",
      "text/plain": [
       "<Figure size 432x288 with 1 Axes>"
      ]
     },
     "metadata": {
      "needs_background": "light"
     },
     "output_type": "display_data"
    }
   ],
   "source": [
    "plt.hist(dtc_preds_te - yte_test.mean(), bins=20);"
   ]
  },
  {
   "cell_type": "markdown",
   "id": "6be551d2",
   "metadata": {},
   "source": [
    "### KNN"
   ]
  },
  {
   "cell_type": "code",
   "execution_count": 18,
   "id": "fed48671",
   "metadata": {},
   "outputs": [],
   "source": [
    "from sklearn.neighbors import KNeighborsClassifier"
   ]
  },
  {
   "cell_type": "code",
   "execution_count": 19,
   "id": "3e2c40de",
   "metadata": {},
   "outputs": [],
   "source": [
    "knn_ti = KNeighborsClassifier()\n",
    "knn_te = KNeighborsClassifier()"
   ]
  },
  {
   "cell_type": "code",
   "execution_count": 20,
   "id": "03109139",
   "metadata": {},
   "outputs": [
    {
     "data": {
      "text/plain": [
       "KNeighborsClassifier()"
      ]
     },
     "execution_count": 20,
     "metadata": {},
     "output_type": "execute_result"
    }
   ],
   "source": [
    "knn_ti.fit(Xti_train, yti_train)\n",
    "knn_te.fit(Xte_train, yte_train)"
   ]
  },
  {
   "cell_type": "code",
   "execution_count": 21,
   "id": "3caea978",
   "metadata": {},
   "outputs": [
    {
     "data": {
      "text/plain": [
       "(0.6067254685777288, 0.3776455026455027)"
      ]
     },
     "execution_count": 21,
     "metadata": {},
     "output_type": "execute_result"
    }
   ],
   "source": [
    "knn_ti.score(Xti_train, yti_train), knn_ti.score(Xti_test, yti_test)"
   ]
  },
  {
   "cell_type": "code",
   "execution_count": 22,
   "id": "09f15ce5",
   "metadata": {},
   "outputs": [
    {
     "data": {
      "text/plain": [
       "(0.4637265711135612, 0.3244047619047619)"
      ]
     },
     "execution_count": 22,
     "metadata": {},
     "output_type": "execute_result"
    }
   ],
   "source": [
    "knn_te.score(Xte_train, yte_train), knn_te.score(Xte_test, yte_test)"
   ]
  },
  {
   "cell_type": "code",
   "execution_count": 133,
   "id": "485f528b",
   "metadata": {},
   "outputs": [
    {
     "data": {
      "text/plain": [
       "0.3137816979051819"
      ]
     },
     "execution_count": 133,
     "metadata": {},
     "output_type": "execute_result"
    }
   ],
   "source": [
    "cross_val_score(knn_te, Xte_train, yte_train).mean()"
   ]
  },
  {
   "cell_type": "code",
   "execution_count": 134,
   "id": "68d749ca",
   "metadata": {},
   "outputs": [
    {
     "data": {
      "text/plain": [
       "0.35556780595369347"
      ]
     },
     "execution_count": 134,
     "metadata": {},
     "output_type": "execute_result"
    }
   ],
   "source": [
    "cross_val_score(knn_ti, Xti_train, yti_train).mean()"
   ]
  },
  {
   "cell_type": "markdown",
   "id": "aa5a7f87",
   "metadata": {},
   "source": [
    "KNN scores are even lower than those of decision tree model's. However, in this model title scores are higher than text scores."
   ]
  },
  {
   "cell_type": "markdown",
   "id": "cf1ca24a",
   "metadata": {},
   "source": [
    "#### KNN grid search"
   ]
  },
  {
   "cell_type": "code",
   "execution_count": 23,
   "id": "18101e1e",
   "metadata": {},
   "outputs": [],
   "source": [
    "params = {\n",
    "    'n_neighbors': [3,5,7],\n",
    "    'weights': ['uniform', 'distance']\n",
    "}"
   ]
  },
  {
   "cell_type": "code",
   "execution_count": 26,
   "id": "a7f94968",
   "metadata": {},
   "outputs": [],
   "source": [
    "knn_grid_ti = GridSearchCV(KNeighborsClassifier(), param_grid=params)\n",
    "knn_grid_te = GridSearchCV(KNeighborsClassifier(), param_grid=params)"
   ]
  },
  {
   "cell_type": "code",
   "execution_count": 27,
   "id": "eb114f36",
   "metadata": {},
   "outputs": [
    {
     "data": {
      "text/plain": [
       "GridSearchCV(estimator=KNeighborsClassifier(),\n",
       "             param_grid={'n_neighbors': [3, 5, 7, 9],\n",
       "                         'weights': ['uniform', 'distance']})"
      ]
     },
     "execution_count": 27,
     "metadata": {},
     "output_type": "execute_result"
    }
   ],
   "source": [
    "knn_grid_ti.fit(Xti_train, yti_train)"
   ]
  },
  {
   "cell_type": "code",
   "execution_count": 28,
   "id": "4b035458",
   "metadata": {},
   "outputs": [
    {
     "data": {
      "text/plain": [
       "GridSearchCV(estimator=KNeighborsClassifier(),\n",
       "             param_grid={'n_neighbors': [3, 5, 7, 9],\n",
       "                         'weights': ['uniform', 'distance']})"
      ]
     },
     "execution_count": 28,
     "metadata": {},
     "output_type": "execute_result"
    }
   ],
   "source": [
    "knn_grid_te.fit(Xte_train, yte_train)"
   ]
  },
  {
   "cell_type": "code",
   "execution_count": 31,
   "id": "88510121",
   "metadata": {},
   "outputs": [
    {
     "data": {
      "text/plain": [
       "{'n_neighbors': 3, 'weights': 'distance'}"
      ]
     },
     "execution_count": 31,
     "metadata": {},
     "output_type": "execute_result"
    }
   ],
   "source": [
    "knn_grid_ti.best_params_"
   ]
  },
  {
   "cell_type": "code",
   "execution_count": 33,
   "id": "43b2c903",
   "metadata": {},
   "outputs": [
    {
     "data": {
      "text/plain": [
       "{'n_neighbors': 5, 'weights': 'distance'}"
      ]
     },
     "execution_count": 33,
     "metadata": {},
     "output_type": "execute_result"
    }
   ],
   "source": [
    "knn_grid_te.best_params_"
   ]
  },
  {
   "cell_type": "code",
   "execution_count": 34,
   "id": "f0a99ed1",
   "metadata": {},
   "outputs": [
    {
     "data": {
      "text/plain": [
       "0.40606394707828003"
      ]
     },
     "execution_count": 34,
     "metadata": {},
     "output_type": "execute_result"
    }
   ],
   "source": [
    "knn_grid_ti.best_score_"
   ]
  },
  {
   "cell_type": "code",
   "execution_count": 35,
   "id": "4c64b21b",
   "metadata": {
    "scrolled": true
   },
   "outputs": [
    {
     "data": {
      "text/plain": [
       "0.33142227122381474"
      ]
     },
     "execution_count": 35,
     "metadata": {},
     "output_type": "execute_result"
    }
   ],
   "source": [
    "knn_grid_te.best_score_"
   ]
  },
  {
   "cell_type": "markdown",
   "id": "83849cfc",
   "metadata": {},
   "source": [
    "### Bagging"
   ]
  },
  {
   "cell_type": "code",
   "execution_count": 40,
   "id": "dc0ef719",
   "metadata": {},
   "outputs": [],
   "source": [
    "from sklearn.ensemble import BaggingClassifier"
   ]
  },
  {
   "cell_type": "code",
   "execution_count": 41,
   "id": "7959e225",
   "metadata": {},
   "outputs": [],
   "source": [
    "bag_ti = BaggingClassifier(random_state=42)\n",
    "bag_te = BaggingClassifier(random_state=42)"
   ]
  },
  {
   "cell_type": "code",
   "execution_count": 42,
   "id": "18d5cbf9",
   "metadata": {},
   "outputs": [
    {
     "data": {
      "text/plain": [
       "BaggingClassifier(random_state=42)"
      ]
     },
     "execution_count": 42,
     "metadata": {},
     "output_type": "execute_result"
    }
   ],
   "source": [
    "bag_ti.fit(Xti_train, yti_train)"
   ]
  },
  {
   "cell_type": "code",
   "execution_count": 43,
   "id": "7e26850d",
   "metadata": {},
   "outputs": [
    {
     "data": {
      "text/plain": [
       "BaggingClassifier(random_state=42)"
      ]
     },
     "execution_count": 43,
     "metadata": {},
     "output_type": "execute_result"
    }
   ],
   "source": [
    "bag_te.fit(Xte_train, yte_train)"
   ]
  },
  {
   "cell_type": "code",
   "execution_count": 44,
   "id": "6893a5c8",
   "metadata": {},
   "outputs": [
    {
     "data": {
      "text/plain": [
       "(0.9613009922822492, 0.5674603174603174)"
      ]
     },
     "execution_count": 44,
     "metadata": {},
     "output_type": "execute_result"
    }
   ],
   "source": [
    "bag_ti.score(Xti_train, yti_train), bag_ti.score(Xti_test, yti_test)"
   ]
  },
  {
   "cell_type": "code",
   "execution_count": 45,
   "id": "dfa70e09",
   "metadata": {
    "scrolled": true
   },
   "outputs": [
    {
     "data": {
      "text/plain": [
       "(0.9742006615214994, 0.6276455026455027)"
      ]
     },
     "execution_count": 45,
     "metadata": {},
     "output_type": "execute_result"
    }
   ],
   "source": [
    "bag_te.score(Xte_train, yte_train), bag_te.score(Xte_test, yte_test)"
   ]
  },
  {
   "cell_type": "code",
   "execution_count": 132,
   "id": "5f25efed",
   "metadata": {},
   "outputs": [
    {
     "data": {
      "text/plain": [
       "(0.6213891951488424, 0.5552370452039691)"
      ]
     },
     "execution_count": 132,
     "metadata": {},
     "output_type": "execute_result"
    }
   ],
   "source": [
    "cross_val_score(bag_te, Xte_train, yte_train).mean(), cross_val_score(bag_ti, Xti_train, yti_train).mean()"
   ]
  },
  {
   "cell_type": "markdown",
   "id": "d1310c7c",
   "metadata": {},
   "source": [
    "Bagging scores yielded high varriance, and again text scores are higher than title scores. This is the best model yet."
   ]
  },
  {
   "cell_type": "markdown",
   "id": "9d594744",
   "metadata": {},
   "source": [
    "### Stacking"
   ]
  },
  {
   "cell_type": "markdown",
   "id": "fcef6125",
   "metadata": {},
   "source": [
    "For stacking not only the three models will be used but also data from text and title of the subreddit posts, because data from two different datasets (text and title) are used, will do stacking by hand"
   ]
  },
  {
   "cell_type": "code",
   "execution_count": 148,
   "id": "c5d99793",
   "metadata": {},
   "outputs": [
    {
     "data": {
      "text/html": [
       "<div>\n",
       "<style scoped>\n",
       "    .dataframe tbody tr th:only-of-type {\n",
       "        vertical-align: middle;\n",
       "    }\n",
       "\n",
       "    .dataframe tbody tr th {\n",
       "        vertical-align: top;\n",
       "    }\n",
       "\n",
       "    .dataframe thead th {\n",
       "        text-align: right;\n",
       "    }\n",
       "</style>\n",
       "<table border=\"1\" class=\"dataframe\">\n",
       "  <thead>\n",
       "    <tr style=\"text-align: right;\">\n",
       "      <th></th>\n",
       "      <th>dtc_ti</th>\n",
       "      <th>knn_ti</th>\n",
       "      <th>bag_ti</th>\n",
       "    </tr>\n",
       "  </thead>\n",
       "  <tbody>\n",
       "    <tr>\n",
       "      <th>0</th>\n",
       "      <td>5</td>\n",
       "      <td>6</td>\n",
       "      <td>5</td>\n",
       "    </tr>\n",
       "    <tr>\n",
       "      <th>1</th>\n",
       "      <td>9</td>\n",
       "      <td>9</td>\n",
       "      <td>9</td>\n",
       "    </tr>\n",
       "    <tr>\n",
       "      <th>2</th>\n",
       "      <td>6</td>\n",
       "      <td>1</td>\n",
       "      <td>6</td>\n",
       "    </tr>\n",
       "    <tr>\n",
       "      <th>3</th>\n",
       "      <td>3</td>\n",
       "      <td>2</td>\n",
       "      <td>3</td>\n",
       "    </tr>\n",
       "    <tr>\n",
       "      <th>4</th>\n",
       "      <td>9</td>\n",
       "      <td>1</td>\n",
       "      <td>9</td>\n",
       "    </tr>\n",
       "  </tbody>\n",
       "</table>\n",
       "</div>"
      ],
      "text/plain": [
       "   dtc_ti  knn_ti  bag_ti\n",
       "0       5       6       5\n",
       "1       9       9       9\n",
       "2       6       1       6\n",
       "3       3       2       3\n",
       "4       9       1       9"
      ]
     },
     "execution_count": 148,
     "metadata": {},
     "output_type": "execute_result"
    }
   ],
   "source": [
    "X_pred_train_ti = pd.DataFrame()\n",
    "X_pred_train_ti['dtc_ti'] = cross_val_predict(dtc_ti, Xti_train, yti_train)\n",
    "X_pred_train_ti['knn_ti'] = cross_val_predict(knn_ti, Xti_train, yti_train)\n",
    "X_pred_train_ti['bag_ti'] = cross_val_predict(bag_ti, Xti_train, yti_train)\n",
    "X_pred_train_ti.head()"
   ]
  },
  {
   "cell_type": "code",
   "execution_count": 149,
   "id": "0bde6029",
   "metadata": {},
   "outputs": [
    {
     "data": {
      "text/html": [
       "<div>\n",
       "<style scoped>\n",
       "    .dataframe tbody tr th:only-of-type {\n",
       "        vertical-align: middle;\n",
       "    }\n",
       "\n",
       "    .dataframe tbody tr th {\n",
       "        vertical-align: top;\n",
       "    }\n",
       "\n",
       "    .dataframe thead th {\n",
       "        text-align: right;\n",
       "    }\n",
       "</style>\n",
       "<table border=\"1\" class=\"dataframe\">\n",
       "  <thead>\n",
       "    <tr style=\"text-align: right;\">\n",
       "      <th></th>\n",
       "      <th>dtc_ti</th>\n",
       "      <th>knn_ti</th>\n",
       "      <th>bag_ti</th>\n",
       "    </tr>\n",
       "  </thead>\n",
       "  <tbody>\n",
       "    <tr>\n",
       "      <th>0</th>\n",
       "      <td>9</td>\n",
       "      <td>9</td>\n",
       "      <td>9</td>\n",
       "    </tr>\n",
       "    <tr>\n",
       "      <th>1</th>\n",
       "      <td>9</td>\n",
       "      <td>9</td>\n",
       "      <td>9</td>\n",
       "    </tr>\n",
       "    <tr>\n",
       "      <th>2</th>\n",
       "      <td>1</td>\n",
       "      <td>1</td>\n",
       "      <td>1</td>\n",
       "    </tr>\n",
       "    <tr>\n",
       "      <th>3</th>\n",
       "      <td>5</td>\n",
       "      <td>9</td>\n",
       "      <td>5</td>\n",
       "    </tr>\n",
       "    <tr>\n",
       "      <th>4</th>\n",
       "      <td>8</td>\n",
       "      <td>9</td>\n",
       "      <td>8</td>\n",
       "    </tr>\n",
       "  </tbody>\n",
       "</table>\n",
       "</div>"
      ],
      "text/plain": [
       "   dtc_ti  knn_ti  bag_ti\n",
       "0       9       9       9\n",
       "1       9       9       9\n",
       "2       1       1       1\n",
       "3       5       9       5\n",
       "4       8       9       8"
      ]
     },
     "execution_count": 149,
     "metadata": {},
     "output_type": "execute_result"
    }
   ],
   "source": [
    "X_pred_test_ti = pd.DataFrame()\n",
    "X_pred_test_ti['dtc_ti'] = cross_val_predict(dtc_ti, Xti_test, yti_test)\n",
    "X_pred_test_ti['knn_ti'] = cross_val_predict(knn_ti, Xti_test, yti_test)\n",
    "X_pred_test_ti['bag_ti'] = cross_val_predict(bag_ti, Xti_test, yti_test)\n",
    "X_pred_test_ti.head()"
   ]
  },
  {
   "cell_type": "code",
   "execution_count": 150,
   "id": "07e20f32",
   "metadata": {},
   "outputs": [
    {
     "data": {
      "text/html": [
       "<div>\n",
       "<style scoped>\n",
       "    .dataframe tbody tr th:only-of-type {\n",
       "        vertical-align: middle;\n",
       "    }\n",
       "\n",
       "    .dataframe tbody tr th {\n",
       "        vertical-align: top;\n",
       "    }\n",
       "\n",
       "    .dataframe thead th {\n",
       "        text-align: right;\n",
       "    }\n",
       "</style>\n",
       "<table border=\"1\" class=\"dataframe\">\n",
       "  <thead>\n",
       "    <tr style=\"text-align: right;\">\n",
       "      <th></th>\n",
       "      <th>dtc_te</th>\n",
       "      <th>knn_te</th>\n",
       "      <th>bag_te</th>\n",
       "    </tr>\n",
       "  </thead>\n",
       "  <tbody>\n",
       "    <tr>\n",
       "      <th>0</th>\n",
       "      <td>6</td>\n",
       "      <td>8</td>\n",
       "      <td>8</td>\n",
       "    </tr>\n",
       "    <tr>\n",
       "      <th>1</th>\n",
       "      <td>6</td>\n",
       "      <td>6</td>\n",
       "      <td>6</td>\n",
       "    </tr>\n",
       "    <tr>\n",
       "      <th>2</th>\n",
       "      <td>6</td>\n",
       "      <td>5</td>\n",
       "      <td>5</td>\n",
       "    </tr>\n",
       "    <tr>\n",
       "      <th>3</th>\n",
       "      <td>7</td>\n",
       "      <td>7</td>\n",
       "      <td>7</td>\n",
       "    </tr>\n",
       "    <tr>\n",
       "      <th>4</th>\n",
       "      <td>1</td>\n",
       "      <td>5</td>\n",
       "      <td>2</td>\n",
       "    </tr>\n",
       "  </tbody>\n",
       "</table>\n",
       "</div>"
      ],
      "text/plain": [
       "   dtc_te  knn_te  bag_te\n",
       "0       6       8       8\n",
       "1       6       6       6\n",
       "2       6       5       5\n",
       "3       7       7       7\n",
       "4       1       5       2"
      ]
     },
     "execution_count": 150,
     "metadata": {},
     "output_type": "execute_result"
    }
   ],
   "source": [
    "X_pred_train_te = pd.DataFrame()\n",
    "X_pred_train_te['dtc_te'] = cross_val_predict(dtc_te, Xte_train, yte_train)\n",
    "X_pred_train_te['knn_te'] = cross_val_predict(knn_te, Xte_train, yte_train)\n",
    "X_pred_train_te['bag_te'] = cross_val_predict(bag_te, Xte_train, yte_train)\n",
    "X_pred_train_te.head()"
   ]
  },
  {
   "cell_type": "code",
   "execution_count": 151,
   "id": "272fd780",
   "metadata": {},
   "outputs": [
    {
     "data": {
      "text/html": [
       "<div>\n",
       "<style scoped>\n",
       "    .dataframe tbody tr th:only-of-type {\n",
       "        vertical-align: middle;\n",
       "    }\n",
       "\n",
       "    .dataframe tbody tr th {\n",
       "        vertical-align: top;\n",
       "    }\n",
       "\n",
       "    .dataframe thead th {\n",
       "        text-align: right;\n",
       "    }\n",
       "</style>\n",
       "<table border=\"1\" class=\"dataframe\">\n",
       "  <thead>\n",
       "    <tr style=\"text-align: right;\">\n",
       "      <th></th>\n",
       "      <th>dtc_te</th>\n",
       "      <th>knn_te</th>\n",
       "      <th>bag_te</th>\n",
       "    </tr>\n",
       "  </thead>\n",
       "  <tbody>\n",
       "    <tr>\n",
       "      <th>0</th>\n",
       "      <td>1</td>\n",
       "      <td>5</td>\n",
       "      <td>7</td>\n",
       "    </tr>\n",
       "    <tr>\n",
       "      <th>1</th>\n",
       "      <td>9</td>\n",
       "      <td>5</td>\n",
       "      <td>9</td>\n",
       "    </tr>\n",
       "    <tr>\n",
       "      <th>2</th>\n",
       "      <td>1</td>\n",
       "      <td>1</td>\n",
       "      <td>1</td>\n",
       "    </tr>\n",
       "    <tr>\n",
       "      <th>3</th>\n",
       "      <td>5</td>\n",
       "      <td>4</td>\n",
       "      <td>5</td>\n",
       "    </tr>\n",
       "    <tr>\n",
       "      <th>4</th>\n",
       "      <td>6</td>\n",
       "      <td>6</td>\n",
       "      <td>6</td>\n",
       "    </tr>\n",
       "  </tbody>\n",
       "</table>\n",
       "</div>"
      ],
      "text/plain": [
       "   dtc_te  knn_te  bag_te\n",
       "0       1       5       7\n",
       "1       9       5       9\n",
       "2       1       1       1\n",
       "3       5       4       5\n",
       "4       6       6       6"
      ]
     },
     "execution_count": 151,
     "metadata": {},
     "output_type": "execute_result"
    }
   ],
   "source": [
    "X_pred_test_te = pd.DataFrame()\n",
    "X_pred_test_te['dtc_te'] = cross_val_predict(dtc_te, Xte_test, yte_test)\n",
    "X_pred_test_te['knn_te'] = cross_val_predict(knn_te, Xte_test, yte_test)\n",
    "X_pred_test_te['bag_te'] = cross_val_predict(bag_te, Xte_test, yte_test)\n",
    "X_pred_test_te.head()"
   ]
  },
  {
   "cell_type": "code",
   "execution_count": 48,
   "id": "673e80f1",
   "metadata": {},
   "outputs": [],
   "source": [
    "from sklearn.linear_model import LinearRegression"
   ]
  },
  {
   "cell_type": "code",
   "execution_count": 152,
   "id": "e2d4513c",
   "metadata": {},
   "outputs": [],
   "source": [
    "# joining the title and text data\n",
    "train_df = pd.concat([X_pred_train_ti, X_pred_train_te], axis=1)\n",
    "test_df = pd.concat([X_pred_test_ti, X_pred_test_te], axis=1)"
   ]
  },
  {
   "cell_type": "code",
   "execution_count": 153,
   "id": "afa39d59",
   "metadata": {
    "scrolled": true
   },
   "outputs": [
    {
     "data": {
      "text/html": [
       "<div>\n",
       "<style scoped>\n",
       "    .dataframe tbody tr th:only-of-type {\n",
       "        vertical-align: middle;\n",
       "    }\n",
       "\n",
       "    .dataframe tbody tr th {\n",
       "        vertical-align: top;\n",
       "    }\n",
       "\n",
       "    .dataframe thead th {\n",
       "        text-align: right;\n",
       "    }\n",
       "</style>\n",
       "<table border=\"1\" class=\"dataframe\">\n",
       "  <thead>\n",
       "    <tr style=\"text-align: right;\">\n",
       "      <th></th>\n",
       "      <th>dtc_ti</th>\n",
       "      <th>knn_ti</th>\n",
       "      <th>bag_ti</th>\n",
       "      <th>dtc_te</th>\n",
       "      <th>knn_te</th>\n",
       "      <th>bag_te</th>\n",
       "    </tr>\n",
       "  </thead>\n",
       "  <tbody>\n",
       "    <tr>\n",
       "      <th>0</th>\n",
       "      <td>5</td>\n",
       "      <td>6</td>\n",
       "      <td>5</td>\n",
       "      <td>6</td>\n",
       "      <td>8</td>\n",
       "      <td>8</td>\n",
       "    </tr>\n",
       "    <tr>\n",
       "      <th>1</th>\n",
       "      <td>9</td>\n",
       "      <td>9</td>\n",
       "      <td>9</td>\n",
       "      <td>6</td>\n",
       "      <td>6</td>\n",
       "      <td>6</td>\n",
       "    </tr>\n",
       "    <tr>\n",
       "      <th>2</th>\n",
       "      <td>6</td>\n",
       "      <td>1</td>\n",
       "      <td>6</td>\n",
       "      <td>6</td>\n",
       "      <td>5</td>\n",
       "      <td>5</td>\n",
       "    </tr>\n",
       "    <tr>\n",
       "      <th>3</th>\n",
       "      <td>3</td>\n",
       "      <td>2</td>\n",
       "      <td>3</td>\n",
       "      <td>7</td>\n",
       "      <td>7</td>\n",
       "      <td>7</td>\n",
       "    </tr>\n",
       "    <tr>\n",
       "      <th>4</th>\n",
       "      <td>9</td>\n",
       "      <td>1</td>\n",
       "      <td>9</td>\n",
       "      <td>1</td>\n",
       "      <td>5</td>\n",
       "      <td>2</td>\n",
       "    </tr>\n",
       "  </tbody>\n",
       "</table>\n",
       "</div>"
      ],
      "text/plain": [
       "   dtc_ti  knn_ti  bag_ti  dtc_te  knn_te  bag_te\n",
       "0       5       6       5       6       8       8\n",
       "1       9       9       9       6       6       6\n",
       "2       6       1       6       6       5       5\n",
       "3       3       2       3       7       7       7\n",
       "4       9       1       9       1       5       2"
      ]
     },
     "execution_count": 153,
     "metadata": {},
     "output_type": "execute_result"
    }
   ],
   "source": [
    "train_df.head()"
   ]
  },
  {
   "cell_type": "code",
   "execution_count": 154,
   "id": "25f208ab",
   "metadata": {},
   "outputs": [],
   "source": [
    "y_train = pd.concat([yti_train, yte_train], axis=1)"
   ]
  },
  {
   "cell_type": "code",
   "execution_count": 155,
   "id": "b61d7514",
   "metadata": {},
   "outputs": [],
   "source": [
    "y_test = pd.concat([yti_test, yte_test], axis=1)"
   ]
  },
  {
   "cell_type": "code",
   "execution_count": 139,
   "id": "80e7418f",
   "metadata": {},
   "outputs": [
    {
     "data": {
      "text/html": [
       "<div>\n",
       "<style scoped>\n",
       "    .dataframe tbody tr th:only-of-type {\n",
       "        vertical-align: middle;\n",
       "    }\n",
       "\n",
       "    .dataframe tbody tr th {\n",
       "        vertical-align: top;\n",
       "    }\n",
       "\n",
       "    .dataframe thead th {\n",
       "        text-align: right;\n",
       "    }\n",
       "</style>\n",
       "<table border=\"1\" class=\"dataframe\">\n",
       "  <thead>\n",
       "    <tr style=\"text-align: right;\">\n",
       "      <th></th>\n",
       "      <th>dtc_ti</th>\n",
       "      <th>knn_ti</th>\n",
       "      <th>bag_ti</th>\n",
       "      <th>dtc_te</th>\n",
       "      <th>knn_te</th>\n",
       "      <th>bag_te</th>\n",
       "    </tr>\n",
       "  </thead>\n",
       "  <tbody>\n",
       "    <tr>\n",
       "      <th>0</th>\n",
       "      <td>1</td>\n",
       "      <td>1</td>\n",
       "      <td>1</td>\n",
       "      <td>1</td>\n",
       "      <td>5</td>\n",
       "      <td>1</td>\n",
       "    </tr>\n",
       "    <tr>\n",
       "      <th>1</th>\n",
       "      <td>9</td>\n",
       "      <td>9</td>\n",
       "      <td>9</td>\n",
       "      <td>9</td>\n",
       "      <td>9</td>\n",
       "      <td>9</td>\n",
       "    </tr>\n",
       "    <tr>\n",
       "      <th>2</th>\n",
       "      <td>1</td>\n",
       "      <td>1</td>\n",
       "      <td>1</td>\n",
       "      <td>1</td>\n",
       "      <td>1</td>\n",
       "      <td>1</td>\n",
       "    </tr>\n",
       "    <tr>\n",
       "      <th>3</th>\n",
       "      <td>6</td>\n",
       "      <td>7</td>\n",
       "      <td>6</td>\n",
       "      <td>3</td>\n",
       "      <td>4</td>\n",
       "      <td>5</td>\n",
       "    </tr>\n",
       "    <tr>\n",
       "      <th>4</th>\n",
       "      <td>1</td>\n",
       "      <td>4</td>\n",
       "      <td>1</td>\n",
       "      <td>6</td>\n",
       "      <td>6</td>\n",
       "      <td>6</td>\n",
       "    </tr>\n",
       "  </tbody>\n",
       "</table>\n",
       "</div>"
      ],
      "text/plain": [
       "   dtc_ti  knn_ti  bag_ti  dtc_te  knn_te  bag_te\n",
       "0       1       1       1       1       5       1\n",
       "1       9       9       9       9       9       9\n",
       "2       1       1       1       1       1       1\n",
       "3       6       7       6       3       4       5\n",
       "4       1       4       1       6       6       6"
      ]
     },
     "execution_count": 139,
     "metadata": {},
     "output_type": "execute_result"
    }
   ],
   "source": [
    "test_df.head()"
   ]
  },
  {
   "cell_type": "code",
   "execution_count": 140,
   "id": "614b8d9c",
   "metadata": {},
   "outputs": [
    {
     "data": {
      "text/html": [
       "<div>\n",
       "<style scoped>\n",
       "    .dataframe tbody tr th:only-of-type {\n",
       "        vertical-align: middle;\n",
       "    }\n",
       "\n",
       "    .dataframe tbody tr th {\n",
       "        vertical-align: top;\n",
       "    }\n",
       "\n",
       "    .dataframe thead th {\n",
       "        text-align: right;\n",
       "    }\n",
       "</style>\n",
       "<table border=\"1\" class=\"dataframe\">\n",
       "  <thead>\n",
       "    <tr style=\"text-align: right;\">\n",
       "      <th></th>\n",
       "      <th>subr</th>\n",
       "      <th>subr</th>\n",
       "    </tr>\n",
       "  </thead>\n",
       "  <tbody>\n",
       "    <tr>\n",
       "      <th>10271</th>\n",
       "      <td>8</td>\n",
       "      <td>8</td>\n",
       "    </tr>\n",
       "    <tr>\n",
       "      <th>7452</th>\n",
       "      <td>6</td>\n",
       "      <td>6</td>\n",
       "    </tr>\n",
       "    <tr>\n",
       "      <th>3528</th>\n",
       "      <td>3</td>\n",
       "      <td>3</td>\n",
       "    </tr>\n",
       "    <tr>\n",
       "      <th>1822</th>\n",
       "      <td>2</td>\n",
       "      <td>2</td>\n",
       "    </tr>\n",
       "    <tr>\n",
       "      <th>7034</th>\n",
       "      <td>6</td>\n",
       "      <td>6</td>\n",
       "    </tr>\n",
       "    <tr>\n",
       "      <th>...</th>\n",
       "      <td>...</td>\n",
       "      <td>...</td>\n",
       "    </tr>\n",
       "    <tr>\n",
       "      <th>11964</th>\n",
       "      <td>9</td>\n",
       "      <td>9</td>\n",
       "    </tr>\n",
       "    <tr>\n",
       "      <th>5191</th>\n",
       "      <td>5</td>\n",
       "      <td>5</td>\n",
       "    </tr>\n",
       "    <tr>\n",
       "      <th>5390</th>\n",
       "      <td>5</td>\n",
       "      <td>5</td>\n",
       "    </tr>\n",
       "    <tr>\n",
       "      <th>860</th>\n",
       "      <td>1</td>\n",
       "      <td>1</td>\n",
       "    </tr>\n",
       "    <tr>\n",
       "      <th>7270</th>\n",
       "      <td>6</td>\n",
       "      <td>6</td>\n",
       "    </tr>\n",
       "  </tbody>\n",
       "</table>\n",
       "<p>9070 rows × 2 columns</p>\n",
       "</div>"
      ],
      "text/plain": [
       "       subr  subr\n",
       "10271     8     8\n",
       "7452      6     6\n",
       "3528      3     3\n",
       "1822      2     2\n",
       "7034      6     6\n",
       "...     ...   ...\n",
       "11964     9     9\n",
       "5191      5     5\n",
       "5390      5     5\n",
       "860       1     1\n",
       "7270      6     6\n",
       "\n",
       "[9070 rows x 2 columns]"
      ]
     },
     "execution_count": 140,
     "metadata": {},
     "output_type": "execute_result"
    }
   ],
   "source": [
    "y_train"
   ]
  },
  {
   "cell_type": "code",
   "execution_count": 156,
   "id": "51d55742",
   "metadata": {},
   "outputs": [],
   "source": [
    "import numpy as np\n",
    "#joining the y's and finding the means, in case there are \n",
    "#two different numbers the function will fill as None\n",
    "y_train = pd.DataFrame([int(i) if i%1==0 else np.nan for i in y_train.mean(axis=1)], index=yti_train.index)\n",
    "y_test = pd.DataFrame([int(i) if i%1==0 else np.nan for i in y_test.mean(axis=1)], index=yti_test.index)"
   ]
  },
  {
   "cell_type": "code",
   "execution_count": 91,
   "id": "c620ffef",
   "metadata": {},
   "outputs": [
    {
     "data": {
      "text/plain": [
       "0    0\n",
       "dtype: int64"
      ]
     },
     "execution_count": 91,
     "metadata": {},
     "output_type": "execute_result"
    }
   ],
   "source": [
    "y_train.isna().sum()"
   ]
  },
  {
   "cell_type": "code",
   "execution_count": 92,
   "id": "83e22cb1",
   "metadata": {},
   "outputs": [
    {
     "data": {
      "text/plain": [
       "0    0\n",
       "dtype: int64"
      ]
     },
     "execution_count": 92,
     "metadata": {},
     "output_type": "execute_result"
    }
   ],
   "source": [
    "y_test.isna().sum()"
   ]
  },
  {
   "cell_type": "code",
   "execution_count": 158,
   "id": "d3a101d7",
   "metadata": {},
   "outputs": [
    {
     "data": {
      "text/plain": [
       "LinearRegression()"
      ]
     },
     "execution_count": 158,
     "metadata": {},
     "output_type": "execute_result"
    }
   ],
   "source": [
    "lr = LinearRegression()\n",
    "lr.fit(train_df, y_train)"
   ]
  },
  {
   "cell_type": "code",
   "execution_count": 159,
   "id": "d638ee1c",
   "metadata": {},
   "outputs": [
    {
     "data": {
      "text/plain": [
       "0.46929457431408395"
      ]
     },
     "execution_count": 159,
     "metadata": {},
     "output_type": "execute_result"
    }
   ],
   "source": [
    "lr.score(train_df, y_train)"
   ]
  },
  {
   "cell_type": "code",
   "execution_count": 160,
   "id": "0474218e",
   "metadata": {},
   "outputs": [
    {
     "data": {
      "text/plain": [
       "0.38929260499059204"
      ]
     },
     "execution_count": 160,
     "metadata": {},
     "output_type": "execute_result"
    }
   ],
   "source": [
    "lr.score(test_df, y_test)"
   ]
  },
  {
   "cell_type": "code",
   "execution_count": 161,
   "id": "2b27212a",
   "metadata": {},
   "outputs": [
    {
     "data": {
      "text/plain": [
       "0.46774932201534014"
      ]
     },
     "execution_count": 161,
     "metadata": {},
     "output_type": "execute_result"
    }
   ],
   "source": [
    "cross_val_score(lr, train_df, y_train).mean()"
   ]
  },
  {
   "cell_type": "code",
   "execution_count": 98,
   "id": "bf8aafd3",
   "metadata": {},
   "outputs": [],
   "source": [
    "preds = lr.predict(test_df)"
   ]
  },
  {
   "cell_type": "code",
   "execution_count": 100,
   "id": "07dda254",
   "metadata": {},
   "outputs": [
    {
     "data": {
      "text/plain": [
       "array([[0.98568202],\n",
       "       [9.00137274],\n",
       "       [1.00406327],\n",
       "       ...,\n",
       "       [4.00387621],\n",
       "       [4.00305432],\n",
       "       [5.49988118]])"
      ]
     },
     "execution_count": 100,
     "metadata": {},
     "output_type": "execute_result"
    }
   ],
   "source": [
    "preds"
   ]
  },
  {
   "cell_type": "code",
   "execution_count": 165,
   "id": "6235bcb0",
   "metadata": {},
   "outputs": [],
   "source": [
    "residuals = preds - int(y_test.mean())"
   ]
  },
  {
   "cell_type": "code",
   "execution_count": 168,
   "id": "6e4a4c5f",
   "metadata": {
    "scrolled": true
   },
   "outputs": [
    {
     "data": {
      "image/png": "[encoded data removed]",
      "text/plain": [
       "<Figure size 432x288 with 1 Axes>"
      ]
     },
     "metadata": {
      "needs_background": "light"
     },
     "output_type": "display_data"
    }
   ],
   "source": [
    "plt.hist(residuals, bins=40);"
   ]
  },
  {
   "cell_type": "code",
   "execution_count": 169,
   "id": "7409bbfe",
   "metadata": {
    "scrolled": false
   },
   "outputs": [
    {
     "data": {
      "text/plain": [
       "<matplotlib.collections.PathCollection at 0x1de9cca6ee0>"
      ]
     },
     "execution_count": 169,
     "metadata": {},
     "output_type": "execute_result"
    },
    {
     "data": {
      "image/png": "[encoded data removed]",
      "text/plain": [
       "<Figure size 432x288 with 1 Axes>"
      ]
     },
     "metadata": {
      "needs_background": "light"
     },
     "output_type": "display_data"
    }
   ],
   "source": [
    "plt.scatter(y_test, preds)"
   ]
  },
  {
   "cell_type": "markdown",
   "id": "2b07da21",
   "metadata": {},
   "source": [
    "### Conclusion"
   ]
  },
  {
   "cell_type": "markdown",
   "id": "adbb3c77",
   "metadata": {},
   "source": [
    "Due to 9 subreddit topics used in this project the highest cross_valid_score returned by a model is \\~62 returned by bagging model. Which is still much higher then the baseline guessing model of 1/9 (~11.11%) "
   ]
  }
 ],
 "metadata": {
  "kernelspec": {
   "display_name": "Python 3",
   "language": "python",
   "name": "python3"
  },
  "language_info": {
   "codemirror_mode": {
    "name": "ipython",
    "version": 3
   },
   "file_extension": ".py",
   "mimetype": "text/x-python",
   "name": "python",
   "nbconvert_exporter": "python",
   "pygments_lexer": "ipython3",
   "version": "3.8.8"
  }
 },
 "nbformat": 4,
 "nbformat_minor": 5
}
